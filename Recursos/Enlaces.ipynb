{
 "cells": [
  {
   "cell_type": "markdown",
   "metadata": {},
   "source": [
    "# **Enlaces**"
   ]
  },
  {
   "cell_type": "markdown",
   "metadata": {},
   "source": [
    "1. **Documentación de Tkinter:** https://docs.python.org/3/library/tkinter.html\n",
    "\n",
    "2. **Documentación oficial de PyQt:** https://riverbankcomputing.com/software/pyqt/intro\n",
    "\n",
    "3. **Qt Designer Manual:** https://doc.qt.io/qt-6/qtdesigner-manual.html"
   ]
  }
 ],
 "metadata": {
  "language_info": {
   "name": "python"
  }
 },
 "nbformat": 4,
 "nbformat_minor": 2
}
