{
 "cells": [
  {
   "cell_type": "markdown",
   "metadata": {},
   "source": [
    "# **Desarrollo de Funcionalidades Básicas**"
   ]
  },
  {
   "cell_type": "markdown",
   "metadata": {},
   "source": [
    "## **Objetivo**\n",
    "Desarrollar la capacidad de implementar y gestionar funcionalidades esenciales en aplicaciones gráficas utilizando Tkinter. Familiarizarse con la integración de eventos, validación de datos y organización de componentes visuales para diseñar interfaces interactivas. Además, fortalecer la habilidad de estructurar y gestionar aplicaciones mediante formularios funcionales y mecanismos básicos de interacción con el usuario."
   ]
  },
  {
   "cell_type": "markdown",
   "metadata": {},
   "source": [
    "1. Agenda con SQLite y Tkinter:\n",
    "    1. Crear una aplicación que permita añadir, visualizar y eliminar contactos.\n",
    "    2. Los datos del contacto deben incluir nombre, teléfono y correo electrónico.\n",
    "    3. Guardar los contactos en una base de datos SQLite.\n",
    "\n",
    "2. Crea una aplicación que permita:\n",
    "    1. Añadir nuevos productos.\n",
    "    2. Visualizar una lista de productos.\n",
    "    3. Modificar la información de un producto seleccionado.\n",
    "    4. Eliminar un producto seleccionado.\n",
    "\n",
    "3. Crea una aplicación que:\n",
    "    1. Permita agregar, leer, actualizar y eliminar registros.\n",
    "    2. Incluya validaciones de datos como evitar duplicados o campos vacíos.\n",
    "    3. Integre una barra de búsqueda para filtrar contactos por nombre.\n",
    "\n",
    "4. Crea una aplicación que permita:\n",
    "    1. Mostrar todos los registros en una tabla.\n",
    "    2. Seleccionar un registro para editarlo mediante un formulario.\n",
    "    3. Actualizar los cambios y reflejarlos tanto en la tabla como en la base de datos.\n",
    "    4. Eliminar un registro directamente desde la tabla con un botón de \"Eliminar\".\n",
    "\n",
    "\n",
    "5. Crea una aplicación que contenga:\n",
    "    1. Varias pestañas, cada una con un contenido diferente (como formularios, listas o texto).\n",
    "    2. Al menos una pestaña debe tener un Text widget con una Scrollbar.\n",
    "    3. Las pestañas deben tener títulos descriptivos que identifiquen su contenido.\n",
    "\n",
    "\n",
    "6. Crear una ventana con un formulario que contenga campos para nombre, teléfono y correo electrónico. Validar que el teléfono tenga 10 dígitos numéricos y que el correo electrónico tenga un \"@\" y un \".\".\n",
    "\n",
    "7. Crear una calculadora simple donde el usuario ingrese dos números y pueda hacer operaciones de suma, resta, multiplicación y división. Validar que los campos solo contengan números y manejar la división por cero.\n",
    "\n",
    "8. Crear un formulario con campos para nombre, dirección, teléfono, correo electrónico, y edad. Validar que el teléfono contenga solo números y que la edad sea un número mayor a 18 años.\n",
    "\n",
    "9. Crear un formulario con opciones de género (masculino, femenino, otro), un campo de dirección de correo electrónico y un campo para aceptar los términos y condiciones. Validar que el correo electrónico tenga un formato adecuado y que los términos sean aceptados."
   ]
  }
 ],
 "metadata": {
  "kernelspec": {
   "display_name": "Python 3",
   "language": "python",
   "name": "python3"
  },
  "language_info": {
   "codemirror_mode": {
    "name": "ipython",
    "version": 3
   },
   "file_extension": ".py",
   "mimetype": "text/x-python",
   "name": "python",
   "nbconvert_exporter": "python",
   "pygments_lexer": "ipython3",
   "version": "3.11.2"
  }
 },
 "nbformat": 4,
 "nbformat_minor": 2
}
