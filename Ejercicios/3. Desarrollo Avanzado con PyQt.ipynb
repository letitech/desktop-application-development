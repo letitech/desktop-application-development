{
 "cells": [
  {
   "cell_type": "markdown",
   "metadata": {},
   "source": [
    "# **Desarrollo Avanzado con PyQt**"
   ]
  },
  {
   "cell_type": "markdown",
   "metadata": {},
   "source": [
    "## **Objetivo**\n",
    "Adquirir conocimientos avanzados sobre el desarrollo de aplicaciones gráficas utilizando la biblioteca PyQt, explorando sus funcionalidades más destacadas y modernas. Aprender a crear interfaces visualmente atractivas y altamente funcionales, comprender la estructura de eventos y señales, y aplicar patrones de diseño para el desarrollo modular de aplicaciones. Desarrollar la capacidad de integrar características avanzadas como bases de datos, gráficos y estilos personalizados para construir aplicaciones robustas y escalables."
   ]
  },
  {
   "cell_type": "markdown",
   "metadata": {},
   "source": [
    "1. Calculadora de operaciones básicas::\n",
    "    * Crea una interfaz con dos cuadros de texto, cuatro botones para las operaciones (+, -, *, /) y una etiqueta para mostrar el resultado.\n",
    "\n",
    "2. Lista de tareas:\n",
    "    * Diseña una interfaz que permita agregar tareas a una lista, marcarlas como completadas y eliminarlas.\n",
    "\n",
    "3. Crea una aplicación que:\n",
    "    1. Permita agregar, leer, actualizar y eliminar registros.\n",
    "    2. Incluya validaciones de datos como evitar duplicados o campos vacíos.\n",
    "    3. Integre una barra de búsqueda para filtrar contactos por nombre.\n",
    "\n",
    "4. Crea una aplicación que permita:\n",
    "    1. Mostrar todos los registros en una tabla.\n",
    "    2. Seleccionar un registro para editarlo mediante un formulario.\n",
    "    3. Actualizar los cambios y reflejarlos tanto en la tabla como en la base de datos.\n",
    "    4. Eliminar un registro directamente desde la tabla con un botón de \"Eliminar\".\n",
    "\n",
    "\n",
    "5. Crea una aplicación que contenga:\n",
    "    1. Varias pestañas, cada una con un contenido diferente (como formularios, listas o texto).\n",
    "    2. Al menos una pestaña debe tener un Text widget con una Scrollbar.\n",
    "    3. Las pestañas deben tener títulos descriptivos que identifiquen su contenido."
   ]
  }
 ],
 "metadata": {
  "kernelspec": {
   "display_name": "Python 3",
   "language": "python",
   "name": "python3"
  },
  "language_info": {
   "codemirror_mode": {
    "name": "ipython",
    "version": 3
   },
   "file_extension": ".py",
   "mimetype": "text/x-python",
   "name": "python",
   "nbconvert_exporter": "python",
   "pygments_lexer": "ipython3",
   "version": "3.11.2"
  }
 },
 "nbformat": 4,
 "nbformat_minor": 2
}
