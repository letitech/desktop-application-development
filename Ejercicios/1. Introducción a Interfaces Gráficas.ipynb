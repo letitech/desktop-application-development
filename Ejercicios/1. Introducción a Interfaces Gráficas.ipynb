{
 "cells": [
  {
   "cell_type": "markdown",
   "metadata": {},
   "source": [
    "# **Introducción a Interfaces Gráficas**"
   ]
  },
  {
   "cell_type": "markdown",
   "metadata": {},
   "source": [
    "## **Objetivo**\n",
    "Comprender los fundamentos de las interfaces gráficas de usuario (GUI) y cómo utilizarlas para crear aplicaciones visuales. Familiarizarse con la biblioteca Tkinter y su estructura básica, y ser capaz de diseñar formularios sencillos e interactivos."
   ]
  },
  {
   "cell_type": "markdown",
   "metadata": {},
   "source": [
    "1. Desarrollar una aplicación con:\n",
    "    1. Una ventana personalizada (tamaño y título).\n",
    "    2. Una etiqueta que muestre un mensaje de bienvenida.\n",
    "    3. Dos cuadros de texto: uno para ingresar un nombre y otro para un apellido.\n",
    "    4. Un botón que al presionarlo muestre el nombre completo en la consola.\n",
    "\n",
    "2. Crear una pequeña aplicación que tenga una etiqueta, un cuadro de texto para ingresar un nombre, y un botón que cambie el texto de la etiqueta a \"Hola, [nombre]\" cuando se haga clic.\n",
    "\n",
    "3. Revisión de la documentación sobre los widgets Label, Button y Entry, y sus propiedades.\n",
    "\n",
    "4. Crear una interfaz que contenga un formulario con varios campos (nombre, edad, ciudad) utilizando grid y pack, y organiza los botones utilizando place.\n",
    "\n",
    "5. Revisión de los métodos pack, grid, y place en Tkinter y sus aplicaciones.\n",
    "\n",
    "6. Crear una ventana con un formulario que contenga campos para nombre, teléfono y correo electrónico. Validar que el teléfono tenga 10 dígitos numéricos y que el correo electrónico tenga un \"@\" y un \".\".\n",
    "\n",
    "7. Crear una calculadora simple donde el usuario ingrese dos números y pueda hacer operaciones de suma, resta, multiplicación y división. Validar que los campos solo contengan números y manejar la división por cero.\n",
    "\n",
    "8. Crear un formulario con campos para nombre, dirección, teléfono, correo electrónico, y edad. Validar que el teléfono contenga solo números y que la edad sea un número mayor a 18 años.\n",
    "\n",
    "9. Crear un formulario con opciones de género (masculino, femenino, otro), un campo de dirección de correo electrónico y un campo para aceptar los términos y condiciones. Validar que el correo electrónico tenga un formato adecuado y que los términos sean aceptados."
   ]
  }
 ],
 "metadata": {
  "kernelspec": {
   "display_name": "Python 3",
   "language": "python",
   "name": "python3"
  },
  "language_info": {
   "codemirror_mode": {
    "name": "ipython",
    "version": 3
   },
   "file_extension": ".py",
   "mimetype": "text/x-python",
   "name": "python",
   "nbconvert_exporter": "python",
   "pygments_lexer": "ipython3",
   "version": "3.11.2"
  }
 },
 "nbformat": 4,
 "nbformat_minor": 2
}
