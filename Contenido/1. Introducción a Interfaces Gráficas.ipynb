{
 "cells": [
  {
   "cell_type": "markdown",
   "metadata": {},
   "source": [
    "# **Introducción a Interfaces Gráficas**"
   ]
  },
  {
   "cell_type": "markdown",
   "metadata": {},
   "source": [
    "## **Objetivo**\n",
    "Comprender los fundamentos de las interfaces gráficas de usuario (GUI) y cómo utilizarlas para crear aplicaciones visuales. Familiarizarse con la biblioteca Tkinter y su estructura básica, y ser capaz de diseñar formularios sencillos e interactivos."
   ]
  },
  {
   "cell_type": "markdown",
   "metadata": {},
   "source": [
    "### **1. Conceptos básicos de GUI con Tkinter y estructura inicial**"
   ]
  },
  {
   "cell_type": "markdown",
   "metadata": {},
   "source": [
    "Una **interfaz gráfica de usuario (GUI)** permite a los usuarios interactuar con una aplicación a través de elementos visuales como ventanas, botones, cuadros de texto, y más. Esto contrasta con las aplicaciones de consola, que requieren ingresar comandos de texto.\n",
    "\n",
    "En Python, una de las bibliotecas más populares para desarrollar GUIs es Tkinter, que forma parte de la biblioteca estándar de Python. Esto significa que no requiere instalación adicional y es ideal para desarrollar aplicaciones sencillas y medianas.\n",
    "\n",
    "**¿Por qué usar Tkinter?**\n",
    "\n",
    "* **Sencillez:** Ideal para principiantes y proyectos básicos.\n",
    "* **Portabilidad:** Funciona en diferentes sistemas operativos (Windows, macOS, Linux).\n",
    "* **Integración:** Incluido en Python por defecto.\n",
    "\n",
    "**Ejemplo de GUI:**\n",
    "Una ventana que muestra un mensaje y tiene un botón para cerrar la aplicación."
   ]
  },
  {
   "cell_type": "markdown",
   "metadata": {},
   "source": [
    "#### **1.1. Estructura básica de una aplicación Tkinter**"
   ]
  },
  {
   "cell_type": "markdown",
   "metadata": {},
   "source": [
    "**Ventana principal (Main Window)**\n",
    "\n",
    "Todas las aplicaciones Tkinter comienzan con la creación de una ventana raíz que actúa como el contenedor principal de todos los widgets.\n",
    "\n",
    "**Ejemplo:**"
   ]
  },
  {
   "cell_type": "code",
   "execution_count": 1,
   "metadata": {},
   "outputs": [],
   "source": [
    "import tkinter as tk\n",
    "\n",
    "# Crear la ventana principal\n",
    "root = tk.Tk()\n",
    "\n",
    "# Configurar título y tamaño\n",
    "root.title(\"Mi Primera App\")\n",
    "root.geometry(\"400x300\")\n",
    "\n",
    "# Ejecutar la ventana\n",
    "root.mainloop()"
   ]
  },
  {
   "cell_type": "markdown",
   "metadata": {},
   "source": [
    "**Explicación:**\n",
    "\n",
    "* ```tk.Tk()```: Crea la ventana raíz.\n",
    "* ```ventana.title()```: Define el título de la ventana.\n",
    "* ```ventana.geometry()```: Ajusta el tamaño de la ventana (ancho x alto).\n",
    "* ```ventana.mainloop()```: Inicia el ciclo de eventos para mantener abierta la ventana."
   ]
  },
  {
   "cell_type": "markdown",
   "metadata": {},
   "source": [
    "#### **1.1.1. Incorporación de widgets básicos**"
   ]
  },
  {
   "cell_type": "markdown",
   "metadata": {},
   "source": [
    "**1. Etiqueta (Label)**\n",
    "\n",
    "Una etiqueta se utiliza para mostrar texto o imágenes."
   ]
  },
  {
   "cell_type": "code",
   "execution_count": null,
   "metadata": {},
   "outputs": [],
   "source": [
    "etiqueta = tk.Label(root, text=\"¡Hola, Tkinter!\")\n",
    "etiqueta.pack()"
   ]
  },
  {
   "cell_type": "markdown",
   "metadata": {},
   "source": [
    "**2. Botón (Button)**\n",
    "\n",
    "Los botones ejecutan acciones al ser presionados."
   ]
  },
  {
   "cell_type": "code",
   "execution_count": null,
   "metadata": {},
   "outputs": [],
   "source": [
    "boton = tk.Button(root, text=\"Presióname\", command=lambda: print(\"¡Botón presionado!\"))\n",
    "boton.pack()"
   ]
  },
  {
   "cell_type": "markdown",
   "metadata": {},
   "source": [
    "**3. Entrada de texto (Entry)**\n",
    "\n",
    "Permite al usuario ingresar datos de texto."
   ]
  },
  {
   "cell_type": "code",
   "execution_count": null,
   "metadata": {},
   "outputs": [],
   "source": [
    "entrada = tk.Entry(root)\n",
    "entrada.pack()"
   ]
  },
  {
   "cell_type": "markdown",
   "metadata": {},
   "source": [
    "##### **1.1.2. Combinación de widgets:**\n",
    "Crear una ventana con una etiqueta, un cuadro de entrada y un botón que muestre en la consola el texto ingresado."
   ]
  },
  {
   "cell_type": "code",
   "execution_count": null,
   "metadata": {},
   "outputs": [],
   "source": [
    "def mostrar_texto():\n",
    "    texto = entrada.get()\n",
    "    print(f\"Texto ingresado: {texto}\")\n",
    "\n",
    "etiqueta = tk.Label(root, text=\"Ingrese su nombre:\")\n",
    "etiqueta.pack()\n",
    "\n",
    "entrada = tk.Entry(root)\n",
    "entrada.pack()\n",
    "\n",
    "boton = tk.Button(root, text=\"Mostrar\", command=mostrar_texto)\n",
    "boton.pack()"
   ]
  },
  {
   "cell_type": "markdown",
   "metadata": {},
   "source": [
    "##### **1.1.3. Personalización básica**\n",
    "Se pueden personalizar los widgets para mejorar su apariencia:"
   ]
  },
  {
   "cell_type": "markdown",
   "metadata": {},
   "source": [
    "* Cambiar la fuente y colores:"
   ]
  },
  {
   "cell_type": "code",
   "execution_count": null,
   "metadata": {},
   "outputs": [],
   "source": [
    "etiqueta.config(font=(\"Arial\", 14), fg=\"blue\", bg=\"lightgray\")"
   ]
  },
  {
   "cell_type": "markdown",
   "metadata": {},
   "source": [
    "* Ajustar el espacio y la ubicación con pack:"
   ]
  },
  {
   "cell_type": "code",
   "execution_count": null,
   "metadata": {},
   "outputs": [],
   "source": [
    "etiqueta.pack(pady=10)\n",
    "boton.pack(pady=10)\n",
    "entrada.pack(pady=10)"
   ]
  },
  {
   "cell_type": "markdown",
   "metadata": {},
   "source": [
    "##### **1.1.4. Ejercicio práctico guiado**"
   ]
  },
  {
   "cell_type": "markdown",
   "metadata": {},
   "source": [
    "Crear una aplicación con las siguientes características:\n",
    "\n",
    "1. Ventana principal con un título y tamaño personalizado.\n",
    "2. Etiqueta que muestre un mensaje de bienvenida.\n",
    "3. Entrada de texto para ingresar un nombre.\n",
    "4. Botón que al presionarlo imprima el nombre ingresado."
   ]
  },
  {
   "cell_type": "markdown",
   "metadata": {},
   "source": [
    "### **2. Widgets básicos: etiquetas, botones, cuadros de texto**"
   ]
  },
  {
   "cell_type": "markdown",
   "metadata": {},
   "source": [
    "Un **widget** es cualquier componente que aparece en una interfaz gráfica de usuario (GUI) y con el que el usuario puede interactuar. En Tkinter, algunos de los widgets más comunes incluyen:\n",
    "\n",
    "* **Etiquetas (Label):** Muestran texto o imágenes en la interfaz.\n",
    "* **Botones (Button):** Permiten al usuario ejecutar acciones cuando son presionados.\n",
    "* **Cuadros de texto (Entry):** Permiten al usuario ingresar texto."
   ]
  },
  {
   "cell_type": "markdown",
   "metadata": {},
   "source": [
    "#### **2.1. Etiquetas (Label)**\n",
    "Las etiquetas son widgets que muestran texto estático. Son útiles para mostrar instrucciones, mensajes o cualquier otro tipo de texto que no requiera interacción directa.\n",
    "\n",
    "**Uso básico:** Se puede usar el widget Label para mostrar texto en la interfaz."
   ]
  },
  {
   "cell_type": "code",
   "execution_count": null,
   "metadata": {},
   "outputs": [],
   "source": [
    "import tkinter as tk\n",
    "\n",
    "root = tk.Tk()\n",
    "root.title(\"Etiqueta en Tkinter\")\n",
    "\n",
    "# Crear una etiqueta con texto\n",
    "etiqueta = tk.Label(root, text=\"¡Hola, Tkinter!\")\n",
    "etiqueta.pack()\n",
    "\n",
    "root.mainloop()"
   ]
  },
  {
   "cell_type": "markdown",
   "metadata": {},
   "source": [
    "**Propiedades comunes:**\n",
    "\n",
    "* ```text```: Define el texto que se mostrará en la etiqueta.\n",
    "* ```font```: Cambia el tipo de letra, tamaño y estilo.\n",
    "* ```fg```: Define el color del texto (foreground).\n",
    "* ```bg```: Define el color de fondo.\n",
    "\n",
    "**Ejemplo de personalización:**"
   ]
  },
  {
   "cell_type": "code",
   "execution_count": null,
   "metadata": {},
   "outputs": [],
   "source": [
    "etiqueta = tk.Label(root, text=\"Texto Personalizado\", font=(\"Arial\", 14), fg=\"blue\", bg=\"yellow\")\n",
    "etiqueta.pack()"
   ]
  },
  {
   "cell_type": "markdown",
   "metadata": {},
   "source": [
    "#### **2.2. Botones (Button)**\n",
    "Los botones permiten a los usuarios ejecutar una acción cuando son presionados. Se pueden vincular con funciones que se ejecutan cuando el botón es clickeado.\n",
    "\n",
    "**Uso básico:** Se puede crear un botón con el widget ```Button```. Para vincular un botón con una función, se utiliza el parámetro ```command```."
   ]
  },
  {
   "cell_type": "code",
   "execution_count": null,
   "metadata": {},
   "outputs": [],
   "source": [
    "def saludar():\n",
    "    print(\"¡Hola, usuario!\")\n",
    "\n",
    "root = tk.Tk()\n",
    "root.title(\"Botón en Tkinter\")\n",
    "\n",
    "# Crear un botón que ejecuta la función saludar al hacer clic\n",
    "boton = tk.Button(root, text=\"Haz clic para saludar\", command=saludar)\n",
    "boton.pack()\n",
    "\n",
    "root.mainloop()"
   ]
  },
  {
   "cell_type": "markdown",
   "metadata": {},
   "source": [
    "**Propiedades comunes:**\n",
    "\n",
    "* ```text```: El texto que aparecerá en el botón.\n",
    "* ```command```: La función que se ejecutará al hacer clic.\n",
    "* ```bg```: Color de fondo del botón.\n",
    "* ```fg```: Color del texto del botón.\n",
    "\n",
    "**Ejemplo de personalización:**"
   ]
  },
  {
   "cell_type": "code",
   "execution_count": null,
   "metadata": {},
   "outputs": [],
   "source": [
    "boton = tk.Button(root, text=\"Presionar\", command=saludar, bg=\"green\", fg=\"white\")\n",
    "boton.pack()"
   ]
  },
  {
   "cell_type": "markdown",
   "metadata": {},
   "source": [
    "#### **2.3. Cuadros de Texto (Entry)**\n",
    "El widget ```Entry``` se utiliza para permitir que el usuario ingrese texto en la interfaz. Es muy útil para formularios de entrada, búsqueda, o cualquier lugar donde se requiera que el usuario ingrese datos.\n",
    "\n",
    "**Uso básico:** Crear un cuadro de texto y obtener el valor ingresado por el usuario."
   ]
  },
  {
   "cell_type": "code",
   "execution_count": null,
   "metadata": {},
   "outputs": [],
   "source": [
    "def obtener_texto():\n",
    "    texto = entrada.get()  # Obtener el texto ingresado en el cuadro de texto\n",
    "    print(f\"Texto ingresado: {texto}\")\n",
    "\n",
    "root = tk.Tk()\n",
    "root.title(\"Cuadro de Texto en Tkinter\")\n",
    "\n",
    "# Crear un cuadro de texto\n",
    "entrada = tk.Entry(root)\n",
    "entrada.pack()\n",
    "\n",
    "# Crear un botón que obtiene el texto cuando se hace clic\n",
    "boton = tk.Button(root, text=\"Obtener texto\", command=obtener_texto)\n",
    "boton.pack()\n",
    "\n",
    "root.mainloop()"
   ]
  },
  {
   "cell_type": "markdown",
   "metadata": {},
   "source": [
    "**Propiedades comunes:**\n",
    "\n",
    "* ```textvariable```: Asocia el cuadro de texto con una variable para cambiar su valor de forma dinámica.\n",
    "* ```width```: Define el tamaño del cuadro de texto.\n",
    "* ```show```: Oculta el texto ingresado, útil para contraseñas.\n",
    "\n",
    "**Ejemplo de personalización:**"
   ]
  },
  {
   "cell_type": "code",
   "execution_count": null,
   "metadata": {},
   "outputs": [],
   "source": [
    "entrada = tk.Entry(root, width=30, fg=\"red\")\n",
    "entrada.pack()"
   ]
  },
  {
   "cell_type": "markdown",
   "metadata": {},
   "source": [
    "#### **2.4. Manejo de Eventos**\n",
    "Un botón puede ejecutar una función cuando es presionado, lo cual es manejado mediante el parámetro ```command```.\n",
    "\n",
    "* **Evento de botón:** Crear un cuadro de texto y obtener el valor ingresado por el usuario.\n",
    "* **Evento de texto:** Se puede leer el contenido de un cuadro de texto usando el método ```.get()```."
   ]
  },
  {
   "cell_type": "code",
   "execution_count": null,
   "metadata": {},
   "outputs": [],
   "source": [
    "def mostrar_mensaje():\n",
    "    mensaje = entrada.get()\n",
    "    etiqueta.config(text=mensaje)\n",
    "\n",
    "root = tk.Tk()\n",
    "etiqueta = tk.Label(root, text=\"Ingresa algo:\")\n",
    "etiqueta.pack()\n",
    "\n",
    "entrada = tk.Entry(root)\n",
    "entrada.pack()\n",
    "\n",
    "boton = tk.Button(root, text=\"Mostrar mensaje\", command=mostrar_mensaje)\n",
    "boton.pack()\n",
    "\n",
    "root.mainloop()"
   ]
  },
  {
   "cell_type": "markdown",
   "metadata": {},
   "source": [
    "### **3. Organización de widgets: pack, grid, y place**"
   ]
  },
  {
   "cell_type": "markdown",
   "metadata": {},
   "source": [
    "En Tkinter, la organización de widgets dentro de la ventana o contenedor es esencial para crear interfaces gráficas limpias y funcionales. Tkinter ofrece tres métodos principales para organizar los widgets:\n",
    "\n",
    "1. ```pack```: Organiza los widgets en bloques (de arriba a abajo, de izquierda a derecha, etc.).\n",
    "2. ```grid```: Organiza los widgets en una cuadrícula (filas y columnas).\n",
    "3. ```place```: Permite posicionar los widgets de forma absoluta en coordenadas específicas dentro de la ventana."
   ]
  },
  {
   "cell_type": "markdown",
   "metadata": {},
   "source": [
    "#### **3.1. pack - Organización por Bloques**\n",
    "El método ```pack``` es el más simple para organizar widgets. Los widgets se colocan uno debajo del otro o uno al lado del otro, según los parámetros definidos.\n",
    "\n",
    "**Uso básico:**"
   ]
  },
  {
   "cell_type": "code",
   "execution_count": null,
   "metadata": {},
   "outputs": [],
   "source": [
    "import tkinter as tk\n",
    "\n",
    "root = tk.Tk()\n",
    "\n",
    "etiqueta1 = tk.Label(root, text=\"Etiqueta 1\")\n",
    "etiqueta1.pack()  # Se coloca en la parte superior de la ventana\n",
    "\n",
    "etiqueta2 = tk.Label(root, text=\"Etiqueta 2\")\n",
    "etiqueta2.pack()  # Se coloca debajo de la primera etiqueta\n",
    "\n",
    "root.mainloop()"
   ]
  },
  {
   "cell_type": "markdown",
   "metadata": {},
   "source": [
    "**Propiedades de pack:**\n",
    "\n",
    "* ```side```: Determina en qué dirección se organizarán los widgets. Los valores posibles son:\n",
    "\n",
    "    * ```TOP``` (predeterminado): Organiza de arriba hacia abajo.\n",
    "    * ```BOTTOM```: Organiza de abajo hacia arriba.\n",
    "    * ```LEFT```: Organiza de izquierda a derecha.\n",
    "    * ```RIGHT```: Organiza de derecha a izquierda.\n",
    "* ```fill```: Define cómo debe llenar el widget el espacio disponible:\n",
    "\n",
    "    * ```X```: El widget se expande horizontalmente.\n",
    "    * ```Y```: El widget se expande verticalmente.\n",
    "    * ```BOTH```: El widget se expande en ambas direcciones.\n",
    "* ```expand```: Si es ```True```, el widget ocupará cualquier espacio vacío disponible."
   ]
  },
  {
   "cell_type": "code",
   "execution_count": null,
   "metadata": {},
   "outputs": [],
   "source": [
    "etiqueta1 = tk.Label(root, text=\"Etiqueta 1\", bg=\"yellow\")\n",
    "etiqueta1.pack(side=\"left\", fill=\"y\", expand=True)\n",
    "\n",
    "etiqueta2 = tk.Label(root, text=\"Etiqueta 2\", bg=\"green\")\n",
    "etiqueta2.pack(side=\"right\", fill=\"x\")"
   ]
  },
  {
   "cell_type": "markdown",
   "metadata": {},
   "source": [
    "#### **3.2. grid - Organización en Cuadrícula**\n",
    "El método ```grid``` organiza los widgets en filas y columnas, proporcionando un control más preciso sobre el diseño de la interfaz.\n",
    "\n",
    "**Uso básico:**"
   ]
  },
  {
   "cell_type": "code",
   "execution_count": null,
   "metadata": {},
   "outputs": [],
   "source": [
    "root = tk.Tk()\n",
    "\n",
    "etiqueta1 = tk.Label(root, text=\"Etiqueta 1\")\n",
    "etiqueta1.grid(row=0, column=0)  # Coloca en la primera fila, primera columna\n",
    "\n",
    "etiqueta2 = tk.Label(root, text=\"Etiqueta 2\")\n",
    "etiqueta2.grid(row=1, column=0)  # Coloca en la segunda fila, primera columna\n",
    "\n",
    "root.mainloop()"
   ]
  },
  {
   "cell_type": "markdown",
   "metadata": {},
   "source": [
    "**Propiedades de grid:**\n",
    "\n",
    "* ```row```: Especifica la fila en la que se coloca el widget.\n",
    "* ```column```: Especifica la columna en la que se coloca el widget.\n",
    "* ```columnspan```: Define cuántas columnas ocupará el widget.\n",
    "* ```rowspan```: Define cuántas filas ocupará el widget.\n",
    "* ```sticky```: Determina cómo se ajusta el widget al espacio disponible. Se puede usar:\n",
    "    * ```\"n\"```, ```\"s\"```, ```\"e\"```, ```\"w\"``` para anclar al norte, sur, este o oeste.\n",
    "    * Ejemplo: ```sticky=\"ew\"``` hará que el widget se expanda horizontalmente.\n",
    "\n",
    "**Ejemplo de cuadrícula más avanzada:**"
   ]
  },
  {
   "cell_type": "code",
   "execution_count": null,
   "metadata": {},
   "outputs": [],
   "source": [
    "etiqueta1 = tk.Label(root, text=\"Etiqueta 1\")\n",
    "etiqueta1.grid(row=0, column=0, sticky=\"w\")\n",
    "\n",
    "etiqueta2 = tk.Label(root, text=\"Etiqueta 2\")\n",
    "etiqueta2.grid(row=0, column=1, sticky=\"e\")\n",
    "\n",
    "etiqueta3 = tk.Label(root, text=\"Etiqueta 3\")\n",
    "etiqueta3.grid(row=1, column=0, columnspan=2, sticky=\"ew\")"
   ]
  },
  {
   "cell_type": "markdown",
   "metadata": {},
   "source": [
    "#### **3.3. place - Posicionamiento Absoluto**\n",
    "El método ```place``` permite colocar widgets en posiciones específicas dentro de la ventana, utilizando coordenadas absolutas o relativas. Es útil cuando se desea un control total sobre la ubicación de los widgets.\n",
    "\n",
    "**Uso básico:**"
   ]
  },
  {
   "cell_type": "code",
   "execution_count": null,
   "metadata": {},
   "outputs": [],
   "source": [
    "root = tk.Tk()\n",
    "\n",
    "etiqueta1 = tk.Label(root, text=\"Etiqueta 1\")\n",
    "etiqueta1.place(x=50, y=50)  # Coloca la etiqueta en las coordenadas (50, 50)\n",
    "\n",
    "etiqueta2 = tk.Label(root, text=\"Etiqueta 2\")\n",
    "etiqueta2.place(x=150, y=150)  # Coloca la etiqueta en las coordenadas (150, 150)\n",
    "\n",
    "root.mainloop()"
   ]
  },
  {
   "cell_type": "markdown",
   "metadata": {},
   "source": [
    "**Propiedades de place:**\n",
    "\n",
    "* ```x``` y ```y```: Definen las coordenadas absolutas donde se colocará el widget.\n",
    "* ```relx``` y ```rely```: Definen las coordenadas relativas en el rango de 0 a 1.\n",
    "* ```anchor```: Determina qué parte del widget se ajusta a las coordenadas (por ejemplo, anchor=\"nw\" ajusta el widget a la esquina noroeste).\n",
    "* ```width``` y ```height```: Establecen las dimensiones del widget.\n",
    "\n",
    "**Ejemplo de uso de coordenadas relativas:**"
   ]
  },
  {
   "cell_type": "code",
   "execution_count": null,
   "metadata": {},
   "outputs": [],
   "source": [
    "etiqueta1 = tk.Label(root, text=\"Etiqueta 1\")\n",
    "etiqueta1.place(relx=0.5, rely=0.5, anchor=\"center\")"
   ]
  },
  {
   "cell_type": "markdown",
   "metadata": {},
   "source": [
    "#### **3.4. Comparación y Cuándo Usar Cada Método**"
   ]
  },
  {
   "cell_type": "markdown",
   "metadata": {
    "vscode": {
     "languageId": "html"
    }
   },
   "source": [
    "<!DOCTYPE html>\n",
    "<html lang=\"es\">\n",
    "<head>\n",
    "    <meta charset=\"UTF-8\">\n",
    "    <meta name=\"viewport\" content=\"width=device-width, initial-scale=1.0\">\n",
    "    <title>Comparación y Cuándo Usar Cada Método</title>\n",
    "</head>\n",
    "<body>\n",
    "    <h1>Comparación y Cuándo Usar Cada Método</h1>\n",
    "    <table border=\"1\" cellspacing=\"0\" cellpadding=\"5\">\n",
    "        <tr>\n",
    "            <th>Método</th>\n",
    "            <th>Pros</th>\n",
    "            <th>Contras</th>\n",
    "            <th>Cuándo usarlo</th>\n",
    "        </tr>\n",
    "        <tr>\n",
    "            <td>pack</td>\n",
    "            <td>Simple de usar, organiza widgets en bloques.</td>\n",
    "            <td>No permite un control preciso sobre la disposición.</td>\n",
    "            <td>Cuando los widgets se colocan en una dirección (vertical u horizontal).</td>\n",
    "        </tr>\n",
    "        <tr>\n",
    "            <td>grid</td>\n",
    "            <td>Permite una organización más compleja en filas y columnas.</td>\n",
    "            <td>Requiere más configuración, menos flexible en diseño fluido.</td>\n",
    "            <td>Cuando se necesita una organización en tabla o cuadrícula.</td>\n",
    "        </tr>\n",
    "        <tr>\n",
    "            <td>place</td>\n",
    "            <td>Control total sobre la posición de cada widget.</td>\n",
    "            <td>Menos flexible si la ventana cambia de tamaño.</td>\n",
    "            <td>Cuando se requiere una posición exacta, pero no se adapta bien a cambios dinámicos.</td>\n",
    "        </tr>\n",
    "    </table>\n",
    "</body>\n",
    "</html>"
   ]
  },
  {
   "cell_type": "markdown",
   "metadata": {},
   "source": [
    "### **4. Introducción a eventos y validación de datos**"
   ]
  },
  {
   "cell_type": "markdown",
   "metadata": {},
   "source": [
    "En las aplicaciones gráficas, los eventos son las acciones realizadas por el usuario, como hacer clic en un botón, escribir en un cuadro de texto, mover el ratón, entre otros. Tkinter utiliza un modelo de eventos basado en el bucle principal (main loop), que detecta y responde a estos eventos.\n",
    "\n",
    "* **El bucle de eventos (mainloop):** El bucle de eventos de Tkinter es el encargado de esperar y gestionar las interacciones del usuario. En este bucle, el programa espera eventos como clics de ratón, pulsaciones de teclas, etc., y ejecuta las funciones asociadas a estos eventos."
   ]
  },
  {
   "cell_type": "code",
   "execution_count": null,
   "metadata": {},
   "outputs": [],
   "source": [
    "import tkinter as tk\n",
    "\n",
    "def saludar():\n",
    "    print(\"¡Hola, Mundo!\")\n",
    "\n",
    "root = tk.Tk()\n",
    "boton_saludo = tk.Button(root, text=\"Saludar\", command=saludar)\n",
    "boton_saludo.pack()\n",
    "\n",
    "root.mainloop()"
   ]
  },
  {
   "cell_type": "markdown",
   "metadata": {},
   "source": [
    "En este ejemplo, cuando el usuario hace clic en el botón \"Saludar\", el programa ejecuta la función saludar() que imprime \"¡Hola, Mundo!\" en la consola.\n",
    "\n",
    "**Eventos comunes en Tkinter:**\n",
    "\n",
    "* ```<Button-1>```: Clic izquierdo del ratón.\n",
    "* ```<KeyPress>```: Pulsación de una tecla.\n",
    "* ```<Motion>```: Movimiento del ratón.\n",
    "* ```<Return>```: Presión de la tecla Enter.\n",
    "\n",
    "**Ejemplo de evento con bind:**"
   ]
  },
  {
   "cell_type": "code",
   "execution_count": null,
   "metadata": {},
   "outputs": [],
   "source": [
    "def mostrar_tecla(event):\n",
    "    print(f\"Tecla presionada: {event.keysym}\")\n",
    "\n",
    "root = tk.Tk()\n",
    "root.bind(\"<KeyPress>\", mostrar_tecla)  # Captura cualquier tecla presionada\n",
    "root.mainloop()"
   ]
  },
  {
   "cell_type": "markdown",
   "metadata": {},
   "source": [
    "#### **4.1. Funciones y Métodos de Eventos**"
   ]
  },
  {
   "cell_type": "markdown",
   "metadata": {},
   "source": [
    "**```command``` de los botones:** El parámetro ```command``` de los botones permite asociar una función a la acción de hacer clic en el botón. Esto es útil para ejecutar una tarea específica cuando el usuario interactúa con un widget."
   ]
  },
  {
   "cell_type": "code",
   "execution_count": null,
   "metadata": {},
   "outputs": [],
   "source": [
    "def cambiar_texto():\n",
    "    etiqueta.config(text=\"Nuevo texto\")\n",
    "\n",
    "root = tk.Tk()\n",
    "etiqueta = tk.Label(root, text=\"Texto original\")\n",
    "etiqueta.pack()\n",
    "\n",
    "boton_cambiar = tk.Button(root, text=\"Cambiar texto\", command=cambiar_texto)\n",
    "boton_cambiar.pack()\n",
    "\n",
    "root.mainloop()"
   ]
  },
  {
   "cell_type": "markdown",
   "metadata": {},
   "source": [
    "**```bind``` para capturar eventos complejos:** El método ```bind``` permite asociar eventos más específicos a cualquier widget. Por ejemplo, podemos capturar un clic derecho del ratón o la tecla Enter."
   ]
  },
  {
   "cell_type": "code",
   "execution_count": null,
   "metadata": {},
   "outputs": [],
   "source": [
    "def clic_derecho(event):\n",
    "    print(\"Se hizo clic derecho en la ventana.\")\n",
    "\n",
    "root = tk.Tk()\n",
    "root.bind(\"<Button-3>\", clic_derecho)  # Clic derecho\n",
    "root.mainloop()"
   ]
  },
  {
   "cell_type": "markdown",
   "metadata": {},
   "source": [
    "#### **4.2. Funciones y Métodos de Eventos**\n",
    "La validación de datos es una parte fundamental en el desarrollo de aplicaciones de escritorio, ya que asegura que los datos introducidos por los usuarios sean correctos antes de procesarlos.\n",
    "\n",
    "**Validación Básica de Entradas**\n",
    "\n",
    "En Tkinter, se pueden validar los datos introducidos en un cuadro de texto utilizando el método ```validate``` en conjunto con ```validatecommand```. Esto permite controlar el tipo de datos que se pueden ingresar.\n",
    "\n",
    "**Ejemplo de validación de una entrada de texto:**"
   ]
  },
  {
   "cell_type": "code",
   "execution_count": null,
   "metadata": {},
   "outputs": [],
   "source": [
    "import tkinter as tk\n",
    "\n",
    "def validar_entrada(texto):\n",
    "    if texto.isdigit():  # Verifica si el texto contiene solo dígitos\n",
    "        return True\n",
    "    else:\n",
    "        return False\n",
    "\n",
    "root = tk.Tk()\n",
    "\n",
    "vcmd = (root.register(validar_entrada), '%P')  # %P es el valor actual del texto\n",
    "\n",
    "entrada = tk.Entry(root, validate='key', validatecommand=vcmd)\n",
    "entrada.pack()\n",
    "\n",
    "root.mainloop()"
   ]
  },
  {
   "cell_type": "markdown",
   "metadata": {},
   "source": [
    "En este ejemplo, la función ```validar_entrada``` asegura que solo se puedan ingresar números en el cuadro de texto.\n",
    "\n",
    "**Validación en Formularios Complejos**\n",
    "\n",
    "Es común tener formularios con varios campos (como nombre, correo electrónico, edad) que requieren validaciones específicas. A continuación, veremos cómo validar múltiples campos.\n",
    "\n",
    "**Validación de un formulario con múltiples campos:**"
   ]
  },
  {
   "cell_type": "code",
   "execution_count": null,
   "metadata": {},
   "outputs": [],
   "source": [
    "import tkinter as tk\n",
    "from tkinter import messagebox\n",
    "\n",
    "def validar_formulario():\n",
    "    nombre = entry_nombre.get()\n",
    "    email = entry_email.get()\n",
    "    edad = entry_edad.get()\n",
    "\n",
    "    # Validación simple: verificar que los campos no estén vacíos\n",
    "    if not nombre or not email or not edad:\n",
    "        messagebox.showerror(\"Error\", \"Todos los campos son obligatorios.\")\n",
    "        return\n",
    "\n",
    "    # Validación de formato de correo\n",
    "    if \"@\" not in email:\n",
    "        messagebox.showerror(\"Error\", \"El correo electrónico no es válido.\")\n",
    "        return\n",
    "\n",
    "    # Validación de edad (debe ser un número entero positivo)\n",
    "    if not edad.isdigit() or int(edad) <= 0:\n",
    "        messagebox.showerror(\"Error\", \"La edad debe ser un número entero positivo.\")\n",
    "        return\n",
    "\n",
    "    messagebox.showinfo(\"Éxito\", \"Formulario enviado correctamente.\")\n",
    "\n",
    "root = tk.Tk()\n",
    "\n",
    "tk.Label(root, text=\"Nombre:\").pack()\n",
    "entry_nombre = tk.Entry(root)\n",
    "entry_nombre.pack()\n",
    "\n",
    "tk.Label(root, text=\"Correo electrónico:\").pack()\n",
    "entry_email = tk.Entry(root)\n",
    "entry_email.pack()\n",
    "\n",
    "tk.Label(root, text=\"Edad:\").pack()\n",
    "entry_edad = tk.Entry(root)\n",
    "entry_edad.pack()\n",
    "\n",
    "boton_enviar = tk.Button(root, text=\"Enviar\", command=validar_formulario)\n",
    "boton_enviar.pack()\n",
    "\n",
    "root.mainloop()"
   ]
  },
  {
   "cell_type": "markdown",
   "metadata": {},
   "source": [
    "En este ejemplo, al hacer clic en el botón \"Enviar\", el programa valida que:\n",
    "\n",
    "* Todos los campos estén completos.\n",
    "* El correo electrónico contenga un \"@\".\n",
    "* La edad sea un número entero positivo.\n",
    "\n",
    "Si alguna de las validaciones falla, se muestra un mensaje de error; si todas las validaciones pasan, se muestra un mensaje de éxito."
   ]
  },
  {
   "cell_type": "markdown",
   "metadata": {},
   "source": [
    "### **5. Creación de formularios interactivos**"
   ]
  },
  {
   "cell_type": "markdown",
   "metadata": {},
   "source": [
    "Un formulario interactivo permite a los usuarios ingresar y enviar datos, y se utiliza en aplicaciones de escritorio para capturar información como nombres, direcciones, correos electrónicos, etc. En Tkinter, los formularios se componen de varios widgets como cuadros de texto (```Entry```), botones (```Button```), etiquetas (```Label```), y listas desplegables (```OptionMenu```).\n",
    "\n",
    "**Componentes principales de un formulario:**\n",
    "\n",
    "* **Entradas de texto (Entry):** Para la entrada de datos.\n",
    "* **Botones (```Button```):** Para enviar o cancelar el formulario.\n",
    "* **Etiquetas (```Label```):** Para describir lo que debe ingresar el usuario.\n",
    "* **Listas Desplegables (```OptionMenu```):** Para opciones predefinidas.\n",
    "* **Casillas de verificación (```Checkbutton```):** Para elegir opciones de tipo booleano.\n",
    "* **Botones de opción (```Radiobutton```):** Para elegir una opción de un conjunto limitado."
   ]
  },
  {
   "cell_type": "markdown",
   "metadata": {},
   "source": [
    "#### **5.1. Creación de un Formulario Básico con Tkinter**\n",
    "Comencemos con un formulario simple con campos de entrada para nombre, correo electrónico y un botón para enviar la información."
   ]
  },
  {
   "cell_type": "code",
   "execution_count": null,
   "metadata": {},
   "outputs": [],
   "source": [
    "import tkinter as tk\n",
    "from tkinter import messagebox\n",
    "\n",
    "def enviar_formulario():\n",
    "    nombre = entry_nombre.get()\n",
    "    correo = entry_correo.get()\n",
    "    \n",
    "    # Validación\n",
    "    if not nombre or not correo:\n",
    "        messagebox.showerror(\"Error\", \"Todos los campos son obligatorios.\")\n",
    "    else:\n",
    "        messagebox.showinfo(\"Éxito\", f\"Formulario enviado\\nNombre: {nombre}\\nCorreo: {correo}\")\n",
    "\n",
    "root = tk.Tk()\n",
    "root.title(\"Formulario Interactivo\")\n",
    "\n",
    "# Etiquetas y campos de entrada\n",
    "tk.Label(root, text=\"Nombre:\").grid(row=0, column=0, padx=10, pady=5)\n",
    "entry_nombre = tk.Entry(root)\n",
    "entry_nombre.grid(row=0, column=1, padx=10, pady=5)\n",
    "\n",
    "tk.Label(root, text=\"Correo:\").grid(row=1, column=0, padx=10, pady=5)\n",
    "entry_correo = tk.Entry(root)\n",
    "entry_correo.grid(row=1, column=1, padx=10, pady=5)\n",
    "\n",
    "# Botón para enviar el formulario\n",
    "boton_enviar = tk.Button(root, text=\"Enviar\", command=enviar_formulario)\n",
    "boton_enviar.grid(row=2, columnspan=2, pady=10)\n",
    "\n",
    "root.mainloop()"
   ]
  },
  {
   "cell_type": "markdown",
   "metadata": {},
   "source": [
    "En este ejemplo, el formulario contiene dos campos de entrada (``nombre`` y ``correo``) y un botón para enviar los datos. Si algún campo está vacío, muestra un mensaje de error."
   ]
  },
  {
   "cell_type": "markdown",
   "metadata": {},
   "source": [
    "#### **5.2. Agregar Validaciones Avanzadas en el Formulario**\n",
    "Los formularios interactivos requieren validación avanzada para asegurar que los usuarios ingresen datos correctos. A continuación, se agregan validaciones para:\n",
    "\n",
    "* Verificar que el correo electrónico tenga un formato válido.\n",
    "* Validar que la edad sea un número positivo."
   ]
  },
  {
   "cell_type": "code",
   "execution_count": null,
   "metadata": {},
   "outputs": [],
   "source": [
    "def validar_correo(correo):\n",
    "    if \"@\" in correo and \".\" in correo:\n",
    "        return True\n",
    "    return False\n",
    "\n",
    "def enviar_formulario():\n",
    "    nombre = entry_nombre.get()\n",
    "    correo = entry_correo.get()\n",
    "    edad = entry_edad.get()\n",
    "\n",
    "    # Validación de campos vacíos\n",
    "    if not nombre or not correo or not edad:\n",
    "        messagebox.showerror(\"Error\", \"Todos los campos son obligatorios.\")\n",
    "        return\n",
    "\n",
    "    # Validación de correo\n",
    "    if not validar_correo(correo):\n",
    "        messagebox.showerror(\"Error\", \"Correo electrónico no válido.\")\n",
    "        return\n",
    "\n",
    "    # Validación de edad (debe ser un número entero positivo)\n",
    "    if not edad.isdigit() or int(edad) <= 0:\n",
    "        messagebox.showerror(\"Error\", \"La edad debe ser un número entero positivo.\")\n",
    "        return\n",
    "\n",
    "    messagebox.showinfo(\"Éxito\", f\"Formulario enviado\\nNombre: {nombre}\\nCorreo: {correo}\\nEdad: {edad}\")\n",
    "\n",
    "root = tk.Tk()\n",
    "root.title(\"Formulario Interactivo\")\n",
    "\n",
    "# Etiquetas y campos de entrada\n",
    "tk.Label(root, text=\"Nombre:\").grid(row=0, column=0, padx=10, pady=5)\n",
    "entry_nombre = tk.Entry(root)\n",
    "entry_nombre.grid(row=0, column=1, padx=10, pady=5)\n",
    "\n",
    "tk.Label(root, text=\"Correo:\").grid(row=1, column=0, padx=10, pady=5)\n",
    "entry_correo = tk.Entry(root)\n",
    "entry_correo.grid(row=1, column=1, padx=10, pady=5)\n",
    "\n",
    "tk.Label(root, text=\"Edad:\").grid(row=2, column=0, padx=10, pady=5)\n",
    "entry_edad = tk.Entry(root)\n",
    "entry_edad.grid(row=2, column=1, padx=10, pady=5)\n",
    "\n",
    "# Botón para enviar el formulario\n",
    "boton_enviar = tk.Button(root, text=\"Enviar\", command=enviar_formulario)\n",
    "boton_enviar.grid(row=3, columnspan=2, pady=10)\n",
    "\n",
    "root.mainloop()"
   ]
  },
  {
   "cell_type": "markdown",
   "metadata": {},
   "source": [
    "**Características:**\n",
    "\n",
    "* Validación de correo electrónico mediante la función ``validar_correo``.\n",
    "* Validación de edad para asegurarse de que sea un número entero positivo."
   ]
  },
  {
   "cell_type": "markdown",
   "metadata": {},
   "source": [
    "#### **5.3. Agregar Widgets Adicionales al Formulario**\n",
    "A continuación, vamos a enriquecer el formulario agregando:\n",
    "\n",
    "* **Listas desplegables (OptionMenu)** para seleccionar un género.\n",
    "* **Casillas de verificación (Checkbutton)** para aceptar los términos y condiciones.\n",
    "* **Botones de opción (Radiobutton)** para seleccionar la opción de recibir un boletín."
   ]
  },
  {
   "cell_type": "code",
   "execution_count": null,
   "metadata": {},
   "outputs": [],
   "source": [
    "def enviar_formulario():\n",
    "    nombre = entry_nombre.get()\n",
    "    correo = entry_correo.get()\n",
    "    genero = genero_var.get()\n",
    "    acepta_terminos = acepta_var.get()\n",
    "\n",
    "    # Validación de campos vacíos\n",
    "    if not nombre or not correo or not genero:\n",
    "        messagebox.showerror(\"Error\", \"Todos los campos son obligatorios.\")\n",
    "        return\n",
    "\n",
    "    # Validación de aceptación de términos\n",
    "    if not acepta_terminos:\n",
    "        messagebox.showerror(\"Error\", \"Debe aceptar los términos y condiciones.\")\n",
    "        return\n",
    "\n",
    "    messagebox.showinfo(\"Éxito\", f\"Formulario enviado\\nNombre: {nombre}\\nCorreo: {correo}\\nGénero: {genero}\")\n",
    "\n",
    "root = tk.Tk()\n",
    "root.title(\"Formulario Interactivo\")\n",
    "\n",
    "# Etiquetas y campos de entrada\n",
    "tk.Label(root, text=\"Nombre:\").grid(row=0, column=0, padx=10, pady=5)\n",
    "entry_nombre = tk.Entry(root)\n",
    "entry_nombre.grid(row=0, column=1, padx=10, pady=5)\n",
    "\n",
    "tk.Label(root, text=\"Correo:\").grid(row=1, column=0, padx=10, pady=5)\n",
    "entry_correo = tk.Entry(root)\n",
    "entry_correo.grid(row=1, column=1, padx=10, pady=5)\n",
    "\n",
    "# Género (OptionMenu)\n",
    "tk.Label(root, text=\"Género:\").grid(row=2, column=0, padx=10, pady=5)\n",
    "genero_var = tk.StringVar()\n",
    "genero_var.set(\"Selecciona género\")\n",
    "genero_menu = tk.OptionMenu(root, genero_var, \"Masculino\", \"Femenino\", \"Otro\")\n",
    "genero_menu.grid(row=2, column=1, padx=10, pady=5)\n",
    "\n",
    "# Aceptación de términos (Checkbutton)\n",
    "acepta_var = tk.IntVar()\n",
    "acepta_terminos = tk.Checkbutton(root, text=\"Acepto los términos y condiciones\", variable=acepta_var)\n",
    "acepta_terminos.grid(row=3, columnspan=2, pady=5)\n",
    "\n",
    "# Botón para enviar el formulario\n",
    "boton_enviar = tk.Button(root, text=\"Enviar\", command=enviar_formulario)\n",
    "boton_enviar.grid(row=4, columnspan=2, pady=10)\n",
    "\n",
    "root.mainloop()"
   ]
  },
  {
   "cell_type": "markdown",
   "metadata": {},
   "source": [
    "**Características:**\n",
    "\n",
    "* **Listas desplegables (OptionMenu)** para seleccionar el género.\n",
    "* **Casillas de verificación (Checkbutton)** para aceptar los términos y condiciones.\n",
    "* Validación de aceptación de términos antes de enviar el formulario."
   ]
  },
  {
   "cell_type": "markdown",
   "metadata": {},
   "source": [
    "### **6. Proyecto: Formulario funcional con validación básica**"
   ]
  },
  {
   "cell_type": "markdown",
   "metadata": {},
   "source": [
    "#### **6.1. Requisitos del Proyecto**"
   ]
  },
  {
   "cell_type": "markdown",
   "metadata": {},
   "source": [
    "**Campos del formulario:**\n",
    "\n",
    "1. **Nombre:** Campo de texto para el nombre del usuario.\n",
    "2. **Correo electrónico:** Campo de texto para el correo electrónico del usuario, con validación de formato.\n",
    "3. **Edad:** Campo numérico para la edad del usuario, validación para asegurarse de que sea un número entero mayor a 0.\n",
    "4. **Aceptar términos:** Casilla de verificación para aceptar los términos y condiciones.\n",
    "\n",
    "**Acción del formulario:**\n",
    "\n",
    "* El formulario no debe enviarse si algún campo está vacío o si la validación falla.\n",
    "* Si todos los campos son válidos, se debe mostrar un mensaje de éxito con la información ingresada."
   ]
  },
  {
   "cell_type": "markdown",
   "metadata": {},
   "source": [
    "#### **6.2. Pasos del Proyecto**"
   ]
  },
  {
   "cell_type": "markdown",
   "metadata": {},
   "source": [
    "**1. Preparación del Entorno:**\n",
    "\n",
    "Asegúrate de tener Python y Tkinter instalados. Si aún no tienes Tkinter, puedes instalarlo con el siguiente comando (en caso de que no venga preinstalado con tu instalación de Python):"
   ]
  },
  {
   "cell_type": "code",
   "execution_count": null,
   "metadata": {
    "vscode": {
     "languageId": "bat"
    }
   },
   "outputs": [],
   "source": [
    "pip install tk"
   ]
  },
  {
   "cell_type": "markdown",
   "metadata": {},
   "source": [
    "**2. Crear el Formulario:**\n",
    "\n",
    "El formulario tendrá los siguientes componentes:\n",
    "\n",
    "* **Entradas de texto:** Para nombre, correo electrónico y edad.\n",
    "* **Casilla de verificación (Checkbutton):** Para aceptar los términos.\n",
    "* **Botón de envío:** Para enviar el formulario.\n",
    "* **Validación de campos:**\n",
    "    * El nombre no debe estar vacío.\n",
    "    * El correo debe tener un formato válido (contener \"@\" y \".\").\n",
    "    * La edad debe ser un número mayor que 0.\n",
    "    * Los términos deben ser aceptados."
   ]
  },
  {
   "cell_type": "markdown",
   "metadata": {},
   "source": [
    "**3. Código del Proyecto:**"
   ]
  },
  {
   "cell_type": "code",
   "execution_count": null,
   "metadata": {
    "vscode": {
     "languageId": "bat"
    }
   },
   "outputs": [],
   "source": [
    "import tkinter as tk\n",
    "from tkinter import messagebox\n",
    "\n",
    "# Función para validar el correo electrónico\n",
    "def validar_correo(correo):\n",
    "    if \"@\" in correo and \".\" in correo:\n",
    "        return True\n",
    "    return False\n",
    "\n",
    "# Función que se ejecuta al enviar el formulario\n",
    "def enviar_formulario():\n",
    "    nombre = entry_nombre.get()\n",
    "    correo = entry_correo.get()\n",
    "    edad = entry_edad.get()\n",
    "    acepta_terminos = acepta_var.get()\n",
    "\n",
    "    # Validación de campos vacíos\n",
    "    if not nombre or not correo or not edad:\n",
    "        messagebox.showerror(\"Error\", \"Todos los campos son obligatorios.\")\n",
    "        return\n",
    "\n",
    "    # Validación de correo\n",
    "    if not validar_correo(correo):\n",
    "        messagebox.showerror(\"Error\", \"Correo electrónico no válido.\")\n",
    "        return\n",
    "\n",
    "    # Validación de edad (debe ser un número entero positivo)\n",
    "    if not edad.isdigit() or int(edad) <= 0:\n",
    "        messagebox.showerror(\"Error\", \"La edad debe ser un número entero positivo.\")\n",
    "        return\n",
    "\n",
    "    # Validación de aceptación de términos\n",
    "    if not acepta_terminos:\n",
    "        messagebox.showerror(\"Error\", \"Debe aceptar los términos y condiciones.\")\n",
    "        return\n",
    "\n",
    "    # Si todo es válido, mostrar el mensaje de éxito\n",
    "    messagebox.showinfo(\"Éxito\", f\"Formulario enviado correctamente\\n\\nNombre: {nombre}\\nCorreo: {correo}\\nEdad: {edad}\")\n",
    "\n",
    "# Crear la ventana principal\n",
    "root = tk.Tk()\n",
    "root.title(\"Formulario de Registro\")\n",
    "\n",
    "# Crear las etiquetas y campos de entrada\n",
    "tk.Label(root, text=\"Nombre:\").grid(row=0, column=0, padx=10, pady=5)\n",
    "entry_nombre = tk.Entry(root)\n",
    "entry_nombre.grid(row=0, column=1, padx=10, pady=5)\n",
    "\n",
    "tk.Label(root, text=\"Correo:\").grid(row=1, column=0, padx=10, pady=5)\n",
    "entry_correo = tk.Entry(root)\n",
    "entry_correo.grid(row=1, column=1, padx=10, pady=5)\n",
    "\n",
    "tk.Label(root, text=\"Edad:\").grid(row=2, column=0, padx=10, pady=5)\n",
    "entry_edad = tk.Entry(root)\n",
    "entry_edad.grid(row=2, column=1, padx=10, pady=5)\n",
    "\n",
    "# Casilla de verificación para aceptar los términos\n",
    "acepta_var = tk.IntVar()\n",
    "acepta_terminos = tk.Checkbutton(root, text=\"Acepto los términos y condiciones\", variable=acepta_var)\n",
    "acepta_terminos.grid(row=3, columnspan=2, pady=5)\n",
    "\n",
    "# Botón para enviar el formulario\n",
    "boton_enviar = tk.Button(root, text=\"Enviar\", command=enviar_formulario)\n",
    "boton_enviar.grid(row=4, columnspan=2, pady=10)\n",
    "\n",
    "# Iniciar la aplicación\n",
    "root.mainloop()"
   ]
  },
  {
   "cell_type": "markdown",
   "metadata": {},
   "source": [
    "**Explicación del Código:**\n",
    "\n",
    "* **Validación de campos:**\n",
    "\n",
    "    * Se valida que todos los campos sean llenados antes de enviar el formulario.\n",
    "    * El correo electrónico se valida mediante la función validar_correo, que verifica si contiene un @ y un ..\n",
    "    * La edad se valida con la función isdigit() para asegurarse de que sea un número entero positivo.\n",
    "    * Si los términos no son aceptados, el formulario no se enviará.\n",
    "\n",
    "* **Interacción con el usuario:**\n",
    "\n",
    "    * Si algún campo está vacío o hay un error en la validación, se muestra un mensaje de error usando messagebox.showerror.\n",
    "    * Si todo es válido, el formulario muestra un mensaje de éxito con los datos ingresados."
   ]
  },
  {
   "cell_type": "markdown",
   "metadata": {},
   "source": [
    "**5. Tareas:**\n",
    "\n",
    "1. Modificar el proyecto para agregar un campo de \"Teléfono\" con validación de número.\n",
    "\n",
    "2. Agregar un botón \"Limpiar\" que borre todos los campos del formulario.\n",
    "\n",
    "3. Crear una versión mejorada del formulario que guarde los datos del formulario en un archivo de texto o CSV cuando se envíen."
   ]
  }
 ],
 "metadata": {
  "kernelspec": {
   "display_name": "Python 3",
   "language": "python",
   "name": "python3"
  },
  "language_info": {
   "codemirror_mode": {
    "name": "ipython",
    "version": 3
   },
   "file_extension": ".py",
   "mimetype": "text/x-python",
   "name": "python",
   "nbconvert_exporter": "python",
   "pygments_lexer": "ipython3",
   "version": "3.11.2"
  }
 },
 "nbformat": 4,
 "nbformat_minor": 2
}
