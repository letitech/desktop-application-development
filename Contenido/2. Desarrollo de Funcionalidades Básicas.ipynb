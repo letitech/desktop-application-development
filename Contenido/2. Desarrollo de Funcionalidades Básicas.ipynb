{
 "cells": [
  {
   "cell_type": "markdown",
   "metadata": {},
   "source": [
    "# **Desarrollo de Funcionalidades Básicas**"
   ]
  },
  {
   "cell_type": "markdown",
   "metadata": {},
   "source": [
    "## **Objetivo**\n",
    "Desarrollar la capacidad de implementar y gestionar funcionalidades esenciales en aplicaciones gráficas utilizando Tkinter. Familiarizarse con la integración de eventos, validación de datos y organización de componentes visuales para diseñar interfaces interactivas. Además, fortalecer la habilidad de estructurar y gestionar aplicaciones mediante formularios funcionales y mecanismos básicos de interacción con el usuario."
   ]
  },
  {
   "cell_type": "markdown",
   "metadata": {},
   "source": [
    "### **1. Lectura y escritura de archivos de texto**"
   ]
  },
  {
   "cell_type": "markdown",
   "metadata": {},
   "source": [
    "Los archivos son fundamentales para almacenar y recuperar datos de manera persistente. Python proporciona funciones integradas para trabajar con archivos de forma sencilla y eficiente.\n",
    "\n",
    "**Conceptos Clave:**\n",
    "\n",
    "* **Archivo:** Es una colección de datos almacenados en un sistema de archivos.\n",
    "* **Modo de Apertura:** Determina cómo interactuamos con el archivo (lectura, escritura, etc.).\n",
    "* **Buffer:** Área de memoria temporal para manejar datos antes de escribirlos o después de leerlos."
   ]
  },
  {
   "cell_type": "markdown",
   "metadata": {},
   "source": [
    "#### **1.1. Modos de Apertura de Archivos**"
   ]
  },
  {
   "cell_type": "markdown",
   "metadata": {},
   "source": [
    "<!DOCTYPE html>\n",
    "<html lang=\"es\">\n",
    "<head>\n",
    "    <meta charset=\"UTF-8\">\n",
    "    <meta name=\"viewport\" content=\"width=device-width, initial-scale=1.0\">\n",
    "    <title>Modos de Apertura de Archivos</title>\n",
    "</head>\n",
    "<body>\n",
    "    <h1>Modos de Apertura de Archivos</h1>\n",
    "    <table border=\"1\" cellspacing=\"0\" cellpadding=\"5\">\n",
    "        <tr>\n",
    "            <th>Modo</th>\n",
    "            <th>Descripción</th>\n",
    "        </tr>\n",
    "        <tr>\n",
    "            <td>r</td>\n",
    "            <td>Abrir para lectura (error si no existe).</td>\n",
    "        </tr>\n",
    "        <tr>\n",
    "            <td>w</td>\n",
    "            <td>Abrir para escritura (crea o sobrescribe).</td>\n",
    "        </tr>\n",
    "        <tr>\n",
    "            <td>a</td>\n",
    "            <td>Abrir para añadir al final del archivo.</td>\n",
    "        </tr>\n",
    "        <tr>\n",
    "            <td>r+</td>\n",
    "            <td>Abrir para lectura y escritura.</td>\n",
    "        </tr>\n",
    "    </table>\n",
    "</body>\n",
    "</html>"
   ]
  },
  {
   "cell_type": "markdown",
   "metadata": {},
   "source": [
    "Ejemplo de abrir un archivo:"
   ]
  },
  {
   "cell_type": "code",
   "execution_count": null,
   "metadata": {},
   "outputs": [],
   "source": [
    "archivo = open(\"ejemplo.txt\", \"r\")  # Modo de lectura"
   ]
  },
  {
   "cell_type": "markdown",
   "metadata": {},
   "source": [
    "#### **1.2. Lectura de Archivos**"
   ]
  },
  {
   "cell_type": "markdown",
   "metadata": {},
   "source": [
    "**Métodos para Leer Archivos:**\n",
    "* `read()`: Lee todo el contenido como una cadena.\n",
    "* `readline()`: Lee una línea a la vez.\n",
    "* `readlines()`: Devuelve una lista con todas las líneas.\n",
    "\n",
    "Ejemplo de lectura:"
   ]
  },
  {
   "cell_type": "code",
   "execution_count": null,
   "metadata": {},
   "outputs": [],
   "source": [
    "with open(\"ejemplo.txt\", \"r\") as archivo:\n",
    "    contenido = archivo.read()\n",
    "    print(contenido)"
   ]
  },
  {
   "cell_type": "markdown",
   "metadata": {},
   "source": [
    "#### **1.3. Escritura de Archivos**"
   ]
  },
  {
   "cell_type": "markdown",
   "metadata": {},
   "source": [
    "**Métodos para Escribir:**\n",
    "* `write()`: Escribe una cadena en el archivo.\n",
    "* `writelines()`: Escribe una lista de cadenas.\n",
    "\n",
    "Ejemplo de escritura:"
   ]
  },
  {
   "cell_type": "code",
   "execution_count": null,
   "metadata": {},
   "outputs": [],
   "source": [
    "with open(\"nuevo.txt\", \"w\") as archivo:\n",
    "    archivo.write(\"¡Hola, mundo!\\n\")\n",
    "    archivo.write(\"Esta es una nueva línea.\\n\")"
   ]
  },
  {
   "cell_type": "markdown",
   "metadata": {},
   "source": [
    "#### **1.4. Uso de Bloques with**"
   ]
  },
  {
   "cell_type": "markdown",
   "metadata": {},
   "source": [
    "El uso del bloque `with` asegura que el archivo se cierre automáticamente, incluso si ocurre un error. Esto elimina la necesidad de usar `close()`."
   ]
  },
  {
   "cell_type": "code",
   "execution_count": null,
   "metadata": {},
   "outputs": [],
   "source": [
    "with open(\"ejemplo.txt\", \"r\") as archivo:\n",
    "    print(archivo.read())  # Se cierra automáticamente al salir del bloque"
   ]
  },
  {
   "cell_type": "markdown",
   "metadata": {},
   "source": [
    "#### **1.5. Manejo de Errores al Trabajar con Archivos**"
   ]
  },
  {
   "cell_type": "markdown",
   "metadata": {},
   "source": [
    "Usa excepciones para manejar posibles errores, como archivos inexistentes o problemas de permisos."
   ]
  },
  {
   "cell_type": "code",
   "execution_count": null,
   "metadata": {},
   "outputs": [],
   "source": [
    "try:\n",
    "    with open(\"no_existe.txt\", \"r\") as archivo:\n",
    "        print(archivo.read())\n",
    "except FileNotFoundError:\n",
    "    print(\"El archivo no existe.\")\n",
    "except IOError:\n",
    "    print(\"Error al acceder al archivo.\")"
   ]
  },
  {
   "cell_type": "markdown",
   "metadata": {},
   "source": [
    "#### **1.6. Ejercicio Práctico: Creación de un Registro de Actividades**"
   ]
  },
  {
   "cell_type": "markdown",
   "metadata": {},
   "source": [
    "**Descripción del Ejercicio:**\n",
    "\n",
    "1. Crea un archivo llamado registro.txt.\n",
    "2. Escribe las siguientes actividades en el archivo:\n",
    "    * \"Inicio del programa.\"\n",
    "    * \"Usuario inició sesión.\"\n",
    "3. Lee el contenido del archivo y muéstralo en la consola.\n",
    "\n",
    "**Código Base:**"
   ]
  },
  {
   "cell_type": "code",
   "execution_count": null,
   "metadata": {},
   "outputs": [],
   "source": [
    "# Escribir en el archivo\n",
    "with open(\"registro.txt\", \"w\") as archivo:\n",
    "    archivo.write(\"Inicio del programa.\\n\")\n",
    "    archivo.write(\"Usuario inició sesión.\\n\")\n",
    "\n",
    "# Leer del archivo\n",
    "with open(\"registro.txt\", \"r\") as archivo:\n",
    "    contenido = archivo.read()\n",
    "    print(\"Contenido del archivo:\")\n",
    "    print(contenido)"
   ]
  },
  {
   "cell_type": "markdown",
   "metadata": {},
   "source": [
    "#### **1.7. Buenas Prácticas**"
   ]
  },
  {
   "cell_type": "markdown",
   "metadata": {},
   "source": [
    "* **Cerrar archivos:** Siempre usa with para asegurar el cierre adecuado.\n",
    "* **Validación:** Verifica la existencia del archivo antes de abrirlo.\n",
    "* **Evita sobrescribir:** Usa el modo adecuado (a en lugar de w) para evitar pérdidas de datos."
   ]
  },
  {
   "cell_type": "markdown",
   "metadata": {},
   "source": [
    "### **2. Creación de menús en aplicaciones Tkinter**"
   ]
  },
  {
   "cell_type": "markdown",
   "metadata": {},
   "source": [
    "Un menú en una aplicación gráfica ofrece opciones organizadas para mejorar la interacción del usuario. Tkinter utiliza el widget `Menu` para implementar menús, permitiendo crear barras de menú, submenús y separadores.\n",
    "\n",
    "**Características Principales:**\n",
    "\n",
    "* **Barra de Menú:** Parte superior de la ventana, que puede contener varios menús desplegables.\n",
    "* **Menú Desplegable:** Conjunto de opciones agrupadas bajo un título.\n",
    "* **Submenús:** Menús anidados dentro de otros menús.\n",
    "* **Separadores:** Líneas horizontales para dividir grupos de opciones."
   ]
  },
  {
   "cell_type": "markdown",
   "metadata": {},
   "source": [
    "#### **2.1. Creación Básica de un Menú**\n",
    "**Estructura General:**\n",
    "1. Crear un widget Menu principal.\n",
    "2. Asociarlo a la ventana principal con config(menu=mi_menu).\n",
    "3. Añadir menús desplegables y sus opciones al menú principal.\n",
    "\n",
    "**Ejemplo  básico:**"
   ]
  },
  {
   "cell_type": "code",
   "execution_count": null,
   "metadata": {},
   "outputs": [],
   "source": [
    "import tkinter as tk\n",
    "\n",
    "# Crear la ventana principal\n",
    "ventana = tk.Tk()\n",
    "ventana.title(\"Ejemplo de Menú\")\n",
    "ventana.geometry(\"400x300\")\n",
    "\n",
    "# Crear el menú principal\n",
    "menu_principal = tk.Menu(ventana)\n",
    "ventana.config(menu=menu_principal)\n",
    "\n",
    "# Crear un menú desplegable\n",
    "menu_archivo = tk.Menu(menu_principal, tearoff=0)\n",
    "menu_archivo.add_command(label=\"Abrir\")\n",
    "menu_archivo.add_command(label=\"Guardar\")\n",
    "menu_archivo.add_separator()\n",
    "menu_archivo.add_command(label=\"Salir\", command=ventana.quit)\n",
    "\n",
    "# Añadir el menú desplegable al menú principal\n",
    "menu_principal.add_cascade(label=\"Archivo\", menu=menu_archivo)\n",
    "\n",
    "# Iniciar el bucle principal\n",
    "ventana.mainloop()"
   ]
  },
  {
   "cell_type": "markdown",
   "metadata": {},
   "source": [
    "#### **2.2. Agregar Submenús y Funcionalidades**\n",
    "Un submenú es un menú anidado dentro de otro menú.\n",
    "\n",
    "**Ejemplo con Submenú:**"
   ]
  },
  {
   "cell_type": "code",
   "execution_count": null,
   "metadata": {},
   "outputs": [],
   "source": [
    "menu_editar = tk.Menu(menu_principal, tearoff=0)\n",
    "menu_editar.add_command(label=\"Cortar\")\n",
    "menu_editar.add_command(label=\"Copiar\")\n",
    "menu_editar.add_command(label=\"Pegar\")\n",
    "\n",
    "menu_formato = tk.Menu(menu_editar, tearoff=0)\n",
    "menu_formato.add_command(label=\"Negrita\")\n",
    "menu_formato.add_command(label=\"Cursiva\")\n",
    "\n",
    "menu_editar.add_cascade(label=\"Formato\", menu=menu_formato)\n",
    "menu_principal.add_cascade(label=\"Editar\", menu=menu_editar)"
   ]
  },
  {
   "cell_type": "markdown",
   "metadata": {},
   "source": [
    "#### **2.3. Uso de Comandos y Funciones**\n",
    "Cada opción de menú puede estar vinculada a una función para realizar una acción específica.\n",
    "\n",
    "**Ejemplo con Funciones:**"
   ]
  },
  {
   "cell_type": "code",
   "execution_count": null,
   "metadata": {},
   "outputs": [],
   "source": [
    "def mostrar_mensaje():\n",
    "    print(\"Opción seleccionada\")\n",
    "\n",
    "menu_ayuda = tk.Menu(menu_principal, tearoff=0)\n",
    "menu_ayuda.add_command(label=\"Acerca de\", command=mostrar_mensaje)\n",
    "menu_principal.add_cascade(label=\"Ayuda\", menu=menu_ayuda)"
   ]
  },
  {
   "cell_type": "markdown",
   "metadata": {},
   "source": [
    "#### **2.4. Personalización de los Menús**\n",
    "El parámetro `tearoff=0` desactiva la opción de \"desacoplar\" menús, lo que resulta en una experiencia más limpia.\n",
    "\n",
    "**Atajos de Teclado:** Añadir combinaciones de teclas para activar opciones rápidamente."
   ]
  },
  {
   "cell_type": "code",
   "execution_count": null,
   "metadata": {},
   "outputs": [],
   "source": [
    "menu_archivo.add_command(label=\"Nuevo\", accelerator=\"Ctrl+N\")\n",
    "ventana.bind(\"<Control-n>\", lambda event: print(\"Nuevo archivo\"))"
   ]
  },
  {
   "cell_type": "markdown",
   "metadata": {},
   "source": [
    "#### **2.4. Ejercicio Práctico: Crear un Menú Completo**\n",
    "**Descripción del Ejercicio:**\n",
    "Crea una aplicación con un menú que contenga:\n",
    "\n",
    "1. Un menú \"Archivo\" con opciones \"Nuevo\", \"Abrir\", \"Guardar\" y \"Salir\".\n",
    "2. Un menú \"Editar\" con opciones \"Cortar\", \"Copiar\", \"Pegar\" y un submenú \"Formato\" con opciones \"Negrita\" y \"Cursiva\".\n",
    "3. Un menú \"Ayuda\" con una opción \"Acerca de\" que muestre un mensaje.\n",
    "\n",
    "**Código Base:**"
   ]
  },
  {
   "cell_type": "code",
   "execution_count": null,
   "metadata": {},
   "outputs": [],
   "source": [
    "import tkinter as tk\n",
    "\n",
    "# Funciones para los comandos\n",
    "def nuevo():\n",
    "    print(\"Nuevo archivo creado\")\n",
    "\n",
    "def abrir():\n",
    "    print(\"Archivo abierto\")\n",
    "\n",
    "def guardar():\n",
    "    print(\"Archivo guardado\")\n",
    "\n",
    "def salir():\n",
    "    ventana.quit()\n",
    "\n",
    "def acerca_de():\n",
    "    print(\"Esta es una aplicación de ejemplo con menús.\")\n",
    "\n",
    "# Crear la ventana principal\n",
    "ventana = tk.Tk()\n",
    "ventana.title(\"Aplicación con Menú\")\n",
    "ventana.geometry(\"400x300\")\n",
    "\n",
    "# Crear el menú principal\n",
    "menu_principal = tk.Menu(ventana)\n",
    "ventana.config(menu=menu_principal)\n",
    "\n",
    "# Menú Archivo\n",
    "menu_archivo = tk.Menu(menu_principal, tearoff=0)\n",
    "menu_archivo.add_command(label=\"Nuevo\", command=nuevo)\n",
    "menu_archivo.add_command(label=\"Abrir\", command=abrir)\n",
    "menu_archivo.add_command(label=\"Guardar\", command=guardar)\n",
    "menu_archivo.add_separator()\n",
    "menu_archivo.add_command(label=\"Salir\", command=salir)\n",
    "menu_principal.add_cascade(label=\"Archivo\", menu=menu_archivo)\n",
    "\n",
    "# Menú Editar\n",
    "menu_editar = tk.Menu(menu_principal, tearoff=0)\n",
    "menu_editar.add_command(label=\"Cortar\")\n",
    "menu_editar.add_command(label=\"Copiar\")\n",
    "menu_editar.add_command(label=\"Pegar\")\n",
    "\n",
    "menu_formato = tk.Menu(menu_editar, tearoff=0)\n",
    "menu_formato.add_command(label=\"Negrita\")\n",
    "menu_formato.add_command(label=\"Cursiva\")\n",
    "menu_editar.add_cascade(label=\"Formato\", menu=menu_formato)\n",
    "\n",
    "menu_principal.add_cascade(label=\"Editar\", menu=menu_editar)\n",
    "\n",
    "# Menú Ayuda\n",
    "menu_ayuda = tk.Menu(menu_principal, tearoff=0)\n",
    "menu_ayuda.add_command(label=\"Acerca de\", command=acerca_de)\n",
    "menu_principal.add_cascade(label=\"Ayuda\", menu=menu_ayuda)\n",
    "\n",
    "# Iniciar el bucle principal\n",
    "ventana.mainloop()"
   ]
  },
  {
   "cell_type": "markdown",
   "metadata": {},
   "source": [
    "### **3. Introducción a bases de datos SQLite**"
   ]
  },
  {
   "cell_type": "markdown",
   "metadata": {},
   "source": [
    "SQLite es una biblioteca de software que implementa un sistema de gestión de bases de datos SQL. Es ligera, eficiente y ampliamente utilizada en aplicaciones móviles, de escritorio y web debido a su facilidad de uso y portabilidad.\n",
    "\n",
    "**Características principales:**\n",
    "* **Sin servidor:** No requiere instalación ni configuración.\n",
    "* **Portátil:** Los datos se almacenan en un único archivo.\n",
    "* **Compatible con SQL estándar:** Soporta operaciones básicas de SQL como SELECT, INSERT, UPDATE, y DELETE.\n",
    "* **Ligera:** Ideal para aplicaciones pequeñas y medianas."
   ]
  },
  {
   "cell_type": "markdown",
   "metadata": {},
   "source": [
    "#### **3.1. Configuración de SQLite en Python**\n",
    "Python incluye el módulo estándar `sqlite3`, que facilita la interacción con bases de datos SQLite.\n",
    "\n",
    "**Cómo conectar SQLite a Python:**\n",
    "1. Importar el módulo sqlite3.\n",
    "2. Crear una conexión a la base de datos con sqlite3.connect(\"nombre_bd.db\"). Si el archivo no existe, SQLite lo crea automáticamente.\n",
    "3. Usar un cursor para ejecutar comandos SQL.\n",
    "\n",
    "**Ejemplo básico:**"
   ]
  },
  {
   "cell_type": "code",
   "execution_count": null,
   "metadata": {},
   "outputs": [],
   "source": [
    "import sqlite3\n",
    "\n",
    "# Crear una conexión a la base de datos\n",
    "conexion = sqlite3.connect(\"mi_base_datos.db\")\n",
    "\n",
    "# Crear un cursor\n",
    "cursor = conexion.cursor()\n",
    "\n",
    "# Crear una tabla\n",
    "cursor.execute(\"\"\"\n",
    "CREATE TABLE IF NOT EXISTS usuarios (\n",
    "    id INTEGER PRIMARY KEY AUTOINCREMENT,\n",
    "    nombre TEXT,\n",
    "    edad INTEGER,\n",
    "    email TEXT\n",
    ")\n",
    "\"\"\")\n",
    "\n",
    "# Confirmar los cambios\n",
    "conexion.commit()\n",
    "\n",
    "# Cerrar la conexión\n",
    "conexion.close()"
   ]
  },
  {
   "cell_type": "markdown",
   "metadata": {},
   "source": [
    "#### **3.2. Operaciones Básicas con SQLite**"
   ]
  },
  {
   "cell_type": "markdown",
   "metadata": {},
   "source": [
    "**Inserción de Datos**"
   ]
  },
  {
   "cell_type": "code",
   "execution_count": null,
   "metadata": {},
   "outputs": [],
   "source": [
    "cursor.execute(\"\"\"\n",
    "INSERT INTO usuarios (nombre, edad, email) \n",
    "VALUES ('Juan', 25, 'juan@example.com')\n",
    "\"\"\")\n",
    "conexion.commit()"
   ]
  },
  {
   "cell_type": "markdown",
   "metadata": {},
   "source": [
    "**Consulta  de Datos**"
   ]
  },
  {
   "cell_type": "code",
   "execution_count": null,
   "metadata": {},
   "outputs": [],
   "source": [
    "cursor.execute(\"SELECT * FROM usuarios\")\n",
    "usuarios = cursor.fetchall()\n",
    "\n",
    "for usuario in usuarios:\n",
    "    print(usuario)"
   ]
  },
  {
   "cell_type": "markdown",
   "metadata": {},
   "source": [
    "**Actualización de Datos**"
   ]
  },
  {
   "cell_type": "code",
   "execution_count": null,
   "metadata": {},
   "outputs": [],
   "source": [
    "cursor.execute(\"\"\"\n",
    "UPDATE usuarios \n",
    "SET edad = 26 \n",
    "WHERE nombre = 'Juan'\n",
    "\"\"\")\n",
    "conexion.commit()"
   ]
  },
  {
   "cell_type": "markdown",
   "metadata": {},
   "source": [
    "**Eliminación de Datos**"
   ]
  },
  {
   "cell_type": "code",
   "execution_count": null,
   "metadata": {},
   "outputs": [],
   "source": [
    "cursor.execute(\"\"\"\n",
    "DELETE FROM usuarios \n",
    "WHERE nombre = 'Juan'\n",
    "\"\"\")\n",
    "conexion.commit()"
   ]
  },
  {
   "cell_type": "markdown",
   "metadata": {},
   "source": [
    "#### **3.3. Integración con Tkinter**\n",
    "Una aplicación gráfica puede utilizar SQLite para almacenar datos de los usuarios. A continuación, se muestra un ejemplo básico para integrar SQLite con Tkinter.\n",
    "\n",
    "**Ejemplo: Formulario que guarda usuarios en SQLite:**"
   ]
  },
  {
   "cell_type": "code",
   "execution_count": null,
   "metadata": {},
   "outputs": [],
   "source": [
    "import tkinter as tk\n",
    "import sqlite3\n",
    "\n",
    "# Crear la base de datos\n",
    "conexion = sqlite3.connect(\"usuarios.db\")\n",
    "cursor = conexion.cursor()\n",
    "cursor.execute(\"\"\"\n",
    "CREATE TABLE IF NOT EXISTS usuarios (\n",
    "    id INTEGER PRIMARY KEY AUTOINCREMENT,\n",
    "    nombre TEXT,\n",
    "    edad INTEGER,\n",
    "    email TEXT\n",
    ")\n",
    "\"\"\")\n",
    "conexion.commit()\n",
    "\n",
    "# Función para guardar datos\n",
    "def guardar_usuario():\n",
    "    nombre = entry_nombre.get()\n",
    "    edad = entry_edad.get()\n",
    "    email = entry_email.get()\n",
    "    \n",
    "    cursor.execute(\"INSERT INTO usuarios (nombre, edad, email) VALUES (?, ?, ?)\", \n",
    "                   (nombre, edad, email))\n",
    "    conexion.commit()\n",
    "    label_resultado.config(text=\"Usuario guardado exitosamente\")\n",
    "\n",
    "# Interfaz gráfica\n",
    "ventana = tk.Tk()\n",
    "ventana.title(\"Gestión de Usuarios\")\n",
    "ventana.geometry(\"300x200\")\n",
    "\n",
    "tk.Label(ventana, text=\"Nombre:\").pack()\n",
    "entry_nombre = tk.Entry(ventana)\n",
    "entry_nombre.pack()\n",
    "\n",
    "tk.Label(ventana, text=\"Edad:\").pack()\n",
    "entry_edad = tk.Entry(ventana)\n",
    "entry_edad.pack()\n",
    "\n",
    "tk.Label(ventana, text=\"Email:\").pack()\n",
    "entry_email = tk.Entry(ventana)\n",
    "entry_email.pack()\n",
    "\n",
    "btn_guardar = tk.Button(ventana, text=\"Guardar Usuario\", command=guardar_usuario)\n",
    "btn_guardar.pack()\n",
    "\n",
    "label_resultado = tk.Label(ventana, text=\"\")\n",
    "label_resultado.pack()\n",
    "\n",
    "ventana.mainloop()\n",
    "conexion.close()"
   ]
  },
  {
   "cell_type": "markdown",
   "metadata": {},
   "source": [
    "#### **3.4. Ventajas y Limitaciones de SQLite**"
   ]
  },
  {
   "cell_type": "markdown",
   "metadata": {
    "vscode": {
     "languageId": "html"
    }
   },
   "source": [
    "<!DOCTYPE html>\n",
    "<html lang=\"es\">\n",
    "<head>\n",
    "    <meta charset=\"UTF-8\">\n",
    "    <meta name=\"viewport\" content=\"width=device-width, initial-scale=1.0\">\n",
    "    <title>Ventajas y Limitaciones de SQLite</title>\n",
    "</head>\n",
    "<body>\n",
    "    <table border=\"1\" cellspacing=\"0\" cellpadding=\"5\">\n",
    "        <tr>\n",
    "            <th>Ventajas</th>\n",
    "            <th>Limitaciones</th>\n",
    "        </tr>\n",
    "        <tr>\n",
    "            <td>Portabilidad extrema (el archivo de la base de datos puede moverse fácilmente).</td>\n",
    "            <td>No es ideal para aplicaciones con un alto número de usuarios concurrentes.</td>\n",
    "        </tr>\n",
    "        <tr>\n",
    "            <td>Integración directa con Python.</td>\n",
    "            <td>Algunas funciones avanzadas de SQL no están disponibles.</td>\n",
    "        </tr>\n",
    "        <tr>\n",
    "            <td>No requiere un servidor de base de datos.</td>\n",
    "        </tr>\n",
    "    </table>\n",
    "</body>\n",
    "</html>"
   ]
  },
  {
   "cell_type": "markdown",
   "metadata": {},
   "source": [
    "#### **3.4. Ejercicio Práctico: Agenda con SQLite y Tkinter**\n",
    "1. Crear una aplicación que permita añadir, visualizar y eliminar contactos.\n",
    "2. Los datos del contacto deben incluir nombre, teléfono y correo electrónico.\n",
    "3. Guardar los contactos en una base de datos SQLite."
   ]
  },
  {
   "cell_type": "markdown",
   "metadata": {},
   "source": [
    "### **4. Operaciones CRUD con SQLite**"
   ]
  },
  {
   "cell_type": "markdown",
   "metadata": {},
   "source": [
    "**CRUD es el acrónimo de:**\n",
    "\n",
    "* **Create (Crear):** Insertar nuevos datos en la base de datos.\n",
    "* **Read (Leer):** Consultar y recuperar datos almacenados.\n",
    "* **Update (Actualizar):** Modificar registros existentes.\n",
    "* **Delete (Eliminar):** Borrar registros específicos de la base de datos.\n",
    "\n",
    "Estas operaciones son fundamentales para cualquier sistema de gestión de datos."
   ]
  },
  {
   "cell_type": "markdown",
   "metadata": {},
   "source": [
    "#### **4.1. Configuración Inicial: Base de Datos**\n",
    "Antes de realizar operaciones CRUD, se debe configurar una base de datos SQLite y una tabla.\n",
    "\n",
    "**Ejemplo de configuración básica:**"
   ]
  },
  {
   "cell_type": "code",
   "execution_count": null,
   "metadata": {},
   "outputs": [],
   "source": [
    "import sqlite3\n",
    "\n",
    "# Crear conexión y tabla\n",
    "conexion = sqlite3.connect(\"mi_base_datos.db\")\n",
    "cursor = conexion.cursor()\n",
    "\n",
    "cursor.execute(\"\"\"\n",
    "CREATE TABLE IF NOT EXISTS productos (\n",
    "    id INTEGER PRIMARY KEY AUTOINCREMENT,\n",
    "    nombre TEXT,\n",
    "    precio REAL,\n",
    "    cantidad INTEGER\n",
    ")\n",
    "\"\"\")\n",
    "conexion.commit()\n",
    "conexion.close()"
   ]
  },
  {
   "cell_type": "markdown",
   "metadata": {},
   "source": [
    "#### **4.2. Operaciones CRUD en Python**"
   ]
  },
  {
   "cell_type": "markdown",
   "metadata": {},
   "source": [
    "**Create (Crear):** Añadir nuevos registros en la tabla."
   ]
  },
  {
   "cell_type": "code",
   "execution_count": null,
   "metadata": {},
   "outputs": [],
   "source": [
    "def crear_producto(nombre, precio, cantidad):\n",
    "    conexion = sqlite3.connect(\"mi_base_datos.db\")\n",
    "    cursor = conexion.cursor()\n",
    "    cursor.execute(\"INSERT INTO productos (nombre, precio, cantidad) VALUES (?, ?, ?)\", \n",
    "                   (nombre, precio, cantidad))\n",
    "    conexion.commit()\n",
    "    conexion.close()\n",
    "\n",
    "# Ejemplo de uso\n",
    "crear_producto(\"Laptop\", 750.50, 10)"
   ]
  },
  {
   "cell_type": "markdown",
   "metadata": {},
   "source": [
    "**Read (Leer):** Consultar y mostrar registros.\n",
    "* **Leer todos los registros:**"
   ]
  },
  {
   "cell_type": "code",
   "execution_count": null,
   "metadata": {},
   "outputs": [],
   "source": [
    "def leer_productos():\n",
    "    conexion = sqlite3.connect(\"mi_base_datos.db\")\n",
    "    cursor = conexion.cursor()\n",
    "    cursor.execute(\"SELECT * FROM productos\")\n",
    "    productos = cursor.fetchall()\n",
    "    conexion.close()\n",
    "    return productos\n",
    "\n",
    "# Ejemplo de uso\n",
    "for producto in leer_productos():\n",
    "    print(producto)"
   ]
  },
  {
   "cell_type": "markdown",
   "metadata": {},
   "source": [
    "* **Leer un registro específico:**"
   ]
  },
  {
   "cell_type": "code",
   "execution_count": null,
   "metadata": {},
   "outputs": [],
   "source": [
    "def leer_producto_por_id(id_producto):\n",
    "    conexion = sqlite3.connect(\"mi_base_datos.db\")\n",
    "    cursor = conexion.cursor()\n",
    "    cursor.execute(\"SELECT * FROM productos WHERE id = ?\", (id_producto,))\n",
    "    producto = cursor.fetchone()\n",
    "    conexion.close()\n",
    "    return producto\n",
    "\n",
    "# Ejemplo de uso\n",
    "print(leer_producto_por_id(1))"
   ]
  },
  {
   "cell_type": "markdown",
   "metadata": {},
   "source": [
    "**Update (Actualizar):** Modificar un registro existente."
   ]
  },
  {
   "cell_type": "code",
   "execution_count": null,
   "metadata": {},
   "outputs": [],
   "source": [
    "def actualizar_producto(id_producto, nombre, precio, cantidad):\n",
    "    conexion = sqlite3.connect(\"mi_base_datos.db\")\n",
    "    cursor = conexion.cursor()\n",
    "    cursor.execute(\"\"\"\n",
    "    UPDATE productos \n",
    "    SET nombre = ?, precio = ?, cantidad = ? \n",
    "    WHERE id = ?\n",
    "    \"\"\", (nombre, precio, cantidad, id_producto))\n",
    "    conexion.commit()\n",
    "    conexion.close()\n",
    "\n",
    "# Ejemplo de uso\n",
    "actualizar_producto(1, \"Laptop Gaming\", 1200.99, 5)"
   ]
  },
  {
   "cell_type": "markdown",
   "metadata": {},
   "source": [
    "**Delete (Eliminar):** Borrar un registro de la tabla."
   ]
  },
  {
   "cell_type": "code",
   "execution_count": null,
   "metadata": {},
   "outputs": [],
   "source": [
    "def eliminar_producto(id_producto):\n",
    "    conexion = sqlite3.connect(\"mi_base_datos.db\")\n",
    "    cursor = conexion.cursor()\n",
    "    cursor.execute(\"DELETE FROM productos WHERE id = ?\", (id_producto,))\n",
    "    conexion.commit()\n",
    "    conexion.close()\n",
    "\n",
    "# Ejemplo de uso\n",
    "eliminar_producto(1)"
   ]
  },
  {
   "cell_type": "markdown",
   "metadata": {},
   "source": [
    "#### **4.3. Integración con Tkinter**\n",
    "Se puede crear una interfaz gráfica para gestionar estas operaciones.\n",
    "\n",
    "**Ejemplo básico: CRUD de Productos con Tkinter**"
   ]
  },
  {
   "cell_type": "code",
   "execution_count": null,
   "metadata": {},
   "outputs": [],
   "source": [
    "import tkinter as tk\n",
    "from tkinter import messagebox\n",
    "import sqlite3\n",
    "\n",
    "# Funciones de CRUD\n",
    "def crear_producto():\n",
    "    nombre = entry_nombre.get()\n",
    "    precio = float(entry_precio.get())\n",
    "    cantidad = int(entry_cantidad.get())\n",
    "    \n",
    "    conexion = sqlite3.connect(\"mi_base_datos.db\")\n",
    "    cursor = conexion.cursor()\n",
    "    cursor.execute(\"INSERT INTO productos (nombre, precio, cantidad) VALUES (?, ?, ?)\", \n",
    "                   (nombre, precio, cantidad))\n",
    "    conexion.commit()\n",
    "    conexion.close()\n",
    "    messagebox.showinfo(\"Éxito\", \"Producto creado exitosamente\")\n",
    "    leer_productos()\n",
    "\n",
    "def leer_productos():\n",
    "    conexion = sqlite3.connect(\"mi_base_datos.db\")\n",
    "    cursor = conexion.cursor()\n",
    "    cursor.execute(\"SELECT * FROM productos\")\n",
    "    productos = cursor.fetchall()\n",
    "    conexion.close()\n",
    "    \n",
    "    listbox_productos.delete(0, tk.END)\n",
    "    for producto in productos:\n",
    "        listbox_productos.insert(tk.END, producto)\n",
    "\n",
    "# Interfaz gráfica\n",
    "ventana = tk.Tk()\n",
    "ventana.title(\"Gestión de Productos\")\n",
    "\n",
    "tk.Label(ventana, text=\"Nombre:\").grid(row=0, column=0)\n",
    "entry_nombre = tk.Entry(ventana)\n",
    "entry_nombre.grid(row=0, column=1)\n",
    "\n",
    "tk.Label(ventana, text=\"Precio:\").grid(row=1, column=0)\n",
    "entry_precio = tk.Entry(ventana)\n",
    "entry_precio.grid(row=1, column=1)\n",
    "\n",
    "tk.Label(ventana, text=\"Cantidad:\").grid(row=2, column=0)\n",
    "entry_cantidad = tk.Entry(ventana)\n",
    "entry_cantidad.grid(row=2, column=1)\n",
    "\n",
    "btn_crear = tk.Button(ventana, text=\"Crear Producto\", command=crear_producto)\n",
    "btn_crear.grid(row=3, column=0, columnspan=2)\n",
    "\n",
    "listbox_productos = tk.Listbox(ventana, width=50)\n",
    "listbox_productos.grid(row=4, column=0, columnspan=2)\n",
    "\n",
    "leer_productos()\n",
    "\n",
    "ventana.mainloop()"
   ]
  },
  {
   "cell_type": "markdown",
   "metadata": {},
   "source": [
    "### **5. Integración de bases de datos con Tkinter**"
   ]
  },
  {
   "cell_type": "markdown",
   "metadata": {},
   "source": [
    "**¿Por qué integrar bases de datos con Tkinter?**\n",
    "\n",
    "* Facilita el manejo de datos persistentes en aplicaciones GUI.\n",
    "* Permite crear herramientas interactivas como sistemas de inventario, agendas, o aplicaciones de registro."
   ]
  },
  {
   "cell_type": "markdown",
   "metadata": {},
   "source": [
    "#### **5.1. Configuración Inicial del Proyecto**\n",
    "**Creación de la Base de Datos**\n",
    "\n",
    "Crea una base de datos SQLite para almacenar información."
   ]
  },
  {
   "cell_type": "code",
   "execution_count": null,
   "metadata": {},
   "outputs": [],
   "source": [
    "import sqlite3\n",
    "\n",
    "# Configuración inicial\n",
    "conexion = sqlite3.connect(\"mi_aplicacion.db\")\n",
    "cursor = conexion.cursor()\n",
    "\n",
    "# Crear tabla de ejemplo\n",
    "cursor.execute(\"\"\"\n",
    "CREATE TABLE IF NOT EXISTS contactos (\n",
    "    id INTEGER PRIMARY KEY AUTOINCREMENT,\n",
    "    nombre TEXT NOT NULL,\n",
    "    telefono TEXT NOT NULL,\n",
    "    email TEXT\n",
    ")\n",
    "\"\"\")\n",
    "conexion.commit()\n",
    "conexion.close()"
   ]
  },
  {
   "cell_type": "markdown",
   "metadata": {},
   "source": [
    "#### **5.2. Estructura Básica del Proyecto con Tkinter**\n",
    "**Diseño de la Interfaz Gráfica**\n",
    "\n",
    "Crea un formulario para gestionar datos (por ejemplo, contactos):"
   ]
  },
  {
   "cell_type": "code",
   "execution_count": null,
   "metadata": {},
   "outputs": [],
   "source": [
    "import tkinter as tk\n",
    "from tkinter import messagebox\n",
    "import sqlite3\n",
    "\n",
    "# Función para conectarse a la base de datos\n",
    "def conectar_bd():\n",
    "    conexion = sqlite3.connect(\"mi_aplicacion.db\")\n",
    "    cursor = conexion.cursor()\n",
    "    return conexion, cursor\n",
    "\n",
    "# Función para añadir un nuevo contacto\n",
    "def agregar_contacto():\n",
    "    nombre = entry_nombre.get()\n",
    "    telefono = entry_telefono.get()\n",
    "    email = entry_email.get()\n",
    "\n",
    "    if nombre and telefono:\n",
    "        conexion, cursor = conectar_bd()\n",
    "        cursor.execute(\"INSERT INTO contactos (nombre, telefono, email) VALUES (?, ?, ?)\", \n",
    "                       (nombre, telefono, email))\n",
    "        conexion.commit()\n",
    "        conexion.close()\n",
    "        messagebox.showinfo(\"Éxito\", \"Contacto agregado correctamente\")\n",
    "        limpiar_campos()\n",
    "        cargar_contactos()\n",
    "    else:\n",
    "        messagebox.showwarning(\"Advertencia\", \"El nombre y el teléfono son obligatorios\")\n",
    "\n",
    "# Función para mostrar los contactos en la lista\n",
    "def cargar_contactos():\n",
    "    conexion, cursor = conectar_bd()\n",
    "    cursor.execute(\"SELECT * FROM contactos\")\n",
    "    contactos = cursor.fetchall()\n",
    "    conexion.close()\n",
    "    \n",
    "    listbox_contactos.delete(0, tk.END)\n",
    "    for contacto in contactos:\n",
    "        listbox_contactos.insert(tk.END, f\"{contacto[1]} - {contacto[2]}\")\n",
    "\n",
    "# Función para limpiar los campos del formulario\n",
    "def limpiar_campos():\n",
    "    entry_nombre.delete(0, tk.END)\n",
    "    entry_telefono.delete(0, tk.END)\n",
    "    entry_email.delete(0, tk.END)\n",
    "\n",
    "# Interfaz gráfica\n",
    "ventana = tk.Tk()\n",
    "ventana.title(\"Gestión de Contactos\")\n",
    "\n",
    "tk.Label(ventana, text=\"Nombre:\").grid(row=0, column=0)\n",
    "entry_nombre = tk.Entry(ventana)\n",
    "entry_nombre.grid(row=0, column=1)\n",
    "\n",
    "tk.Label(ventana, text=\"Teléfono:\").grid(row=1, column=0)\n",
    "entry_telefono = tk.Entry(ventana)\n",
    "entry_telefono.grid(row=1, column=1)\n",
    "\n",
    "tk.Label(ventana, text=\"Email:\").grid(row=2, column=0)\n",
    "entry_email = tk.Entry(ventana)\n",
    "entry_email.grid(row=2, column=1)\n",
    "\n",
    "btn_agregar = tk.Button(ventana, text=\"Agregar Contacto\", command=agregar_contacto)\n",
    "btn_agregar.grid(row=3, column=0, columnspan=2)\n",
    "\n",
    "listbox_contactos = tk.Listbox(ventana, width=50)\n",
    "listbox_contactos.grid(row=4, column=0, columnspan=2)\n",
    "\n",
    "cargar_contactos()\n",
    "\n",
    "ventana.mainloop()"
   ]
  },
  {
   "cell_type": "markdown",
   "metadata": {},
   "source": [
    "#### **5.3. Funcionalidades Adicionales**\n",
    "**Eliminar Contactos**\n",
    "\n",
    "Añade una opción para eliminar contactos seleccionados."
   ]
  },
  {
   "cell_type": "code",
   "execution_count": null,
   "metadata": {},
   "outputs": [],
   "source": [
    "def eliminar_contacto():\n",
    "    seleccionado = listbox_contactos.curselection()\n",
    "    if seleccionado:\n",
    "        contacto = listbox_contactos.get(seleccionado)\n",
    "        nombre = contacto.split(\" - \")[0]\n",
    "        \n",
    "        conexion, cursor = conectar_bd()\n",
    "        cursor.execute(\"DELETE FROM contactos WHERE nombre = ?\", (nombre,))\n",
    "        conexion.commit()\n",
    "        conexion.close()\n",
    "        \n",
    "        messagebox.showinfo(\"Éxito\", \"Contacto eliminado correctamente\")\n",
    "        cargar_contactos()\n",
    "    else:\n",
    "        messagebox.showwarning(\"Advertencia\", \"Selecciona un contacto para eliminar\")\n",
    "\n",
    "# Botón para eliminar\n",
    "btn_eliminar = tk.Button(ventana, text=\"Eliminar Contacto\", command=eliminar_contacto)\n",
    "btn_eliminar.grid(row=5, column=0, columnspan=2)"
   ]
  },
  {
   "cell_type": "markdown",
   "metadata": {},
   "source": [
    "**Actualizar Contactos**\n",
    "\n",
    "Permite modificar información de contactos existentes."
   ]
  },
  {
   "cell_type": "code",
   "execution_count": null,
   "metadata": {},
   "outputs": [],
   "source": [
    "def actualizar_contacto():\n",
    "    seleccionado = listbox_contactos.curselection()\n",
    "    if seleccionado:\n",
    "        contacto = listbox_contactos.get(seleccionado)\n",
    "        nombre = contacto.split(\" - \")[0]\n",
    "\n",
    "        nuevo_nombre = entry_nombre.get()\n",
    "        nuevo_telefono = entry_telefono.get()\n",
    "        nuevo_email = entry_email.get()\n",
    "\n",
    "        if nuevo_nombre and nuevo_telefono:\n",
    "            conexion, cursor = conectar_bd()\n",
    "            cursor.execute(\"\"\"\n",
    "            UPDATE contactos\n",
    "            SET nombre = ?, telefono = ?, email = ?\n",
    "            WHERE nombre = ?\n",
    "            \"\"\", (nuevo_nombre, nuevo_telefono, nuevo_email, nombre))\n",
    "            conexion.commit()\n",
    "            conexion.close()\n",
    "\n",
    "            messagebox.showinfo(\"Éxito\", \"Contacto actualizado correctamente\")\n",
    "            limpiar_campos()\n",
    "            cargar_contactos()\n",
    "        else:\n",
    "            messagebox.showwarning(\"Advertencia\", \"El nombre y el teléfono son obligatorios\")\n",
    "    else:\n",
    "        messagebox.showwarning(\"Advertencia\", \"Selecciona un contacto para actualizar\")\n",
    "\n",
    "# Botón para actualizar\n",
    "btn_actualizar = tk.Button(ventana, text=\"Actualizar Contacto\", command=actualizar_contacto)\n",
    "btn_actualizar.grid(row=6, column=0, columnspan=2)"
   ]
  },
  {
   "cell_type": "markdown",
   "metadata": {},
   "source": [
    "### **6. Mostrar datos en tablas y formularios**"
   ]
  },
  {
   "cell_type": "markdown",
   "metadata": {},
   "source": [
    "**¿Por qué mostrar datos en tablas y formularios?**\n",
    "\n",
    "* Proporciona una forma organizada de visualizar información.\n",
    "* Mejora la interacción del usuario con los datos, permitiendo actualizaciones y ediciones de manera visual y sencilla."
   ]
  },
  {
   "cell_type": "markdown",
   "metadata": {},
   "source": [
    "#### **6.1. Introducción a Tablas con Tkinter**\n",
    "Tkinter no tiene un widget de tabla nativo, pero el widget `Treeview` de la librería `ttk` es ideal para mostrar datos en formato tabular.\n",
    "\n",
    "**Ejemplo Básico: Mostrar Datos en un Treeview:**"
   ]
  },
  {
   "cell_type": "code",
   "execution_count": 2,
   "metadata": {},
   "outputs": [
    {
     "name": "stderr",
     "output_type": "stream",
     "text": [
      "Exception in Tkinter callback\n",
      "Traceback (most recent call last):\n",
      "  File \"c:\\Users\\CENA\\AppData\\Local\\Programs\\Python\\Python311\\Lib\\tkinter\\__init__.py\", line 1948, in __call__\n",
      "    return self.func(*args)\n",
      "           ^^^^^^^^^^^^^^^^\n",
      "  File \"C:\\Users\\CENA\\AppData\\Local\\Temp\\ipykernel_14512\\2958356619.py\", line 12, in cargar_datos\n",
      "    cursor.execute(\"SELECT * FROM tareas\")\n",
      "sqlite3.OperationalError: no such table: tareas\n"
     ]
    }
   ],
   "source": [
    "import tkinter as tk\n",
    "from tkinter import ttk\n",
    "import sqlite3\n",
    "\n",
    "# Función para cargar datos de la base de datos\n",
    "def cargar_datos():\n",
    "    for item in tree.get_children():\n",
    "        tree.delete(item)  # Limpiar la tabla\n",
    "\n",
    "    conexion = sqlite3.connect(\"lista_tareas.db\")\n",
    "    cursor = conexion.cursor()\n",
    "    cursor.execute(\"SELECT * FROM tareas\")\n",
    "    datos = cursor.fetchall()\n",
    "    conexion.close()\n",
    "\n",
    "    for fila in datos:\n",
    "        tree.insert(\"\", tk.END, values=fila)\n",
    "\n",
    "# Configuración de la ventana\n",
    "ventana = tk.Tk()\n",
    "ventana.title(\"Datos en Tabla\")\n",
    "\n",
    "# Configuración del Treeview\n",
    "tree = ttk.Treeview(ventana, columns=(\"ID\", \"Nombre\", \"Teléfono\", \"Email\"), show=\"headings\")\n",
    "tree.heading(\"ID\", text=\"ID\")\n",
    "tree.heading(\"Nombre\", text=\"Nombre\")\n",
    "tree.heading(\"Teléfono\", text=\"Teléfono\")\n",
    "tree.heading(\"Email\", text=\"Email\")\n",
    "tree.pack(fill=tk.BOTH, expand=True)\n",
    "\n",
    "# Botón para cargar datos\n",
    "btn_cargar = tk.Button(ventana, text=\"Cargar Datos\", command=cargar_datos)\n",
    "btn_cargar.pack()\n",
    "\n",
    "ventana.mainloop()"
   ]
  },
  {
   "cell_type": "markdown",
   "metadata": {},
   "source": [
    "#### **6.2. Formularios para Editar Datos**\n",
    "**Ejemplo: Seleccionar un Registro y Mostrarlo en un Formulario**\n",
    "\n",
    "Añade la funcionalidad para seleccionar una fila y editarla."
   ]
  },
  {
   "cell_type": "code",
   "execution_count": null,
   "metadata": {},
   "outputs": [],
   "source": [
    "# Función para cargar un registro seleccionado en el formulario\n",
    "def cargar_seleccion():\n",
    "    seleccionado = tree.focus()\n",
    "    if seleccionado:\n",
    "        valores = tree.item(seleccionado, \"values\")\n",
    "        entry_id.delete(0, tk.END)\n",
    "        entry_nombre.delete(0, tk.END)\n",
    "        entry_telefono.delete(0, tk.END)\n",
    "        entry_email.delete(0, tk.END)\n",
    "\n",
    "        entry_id.insert(0, valores[0])\n",
    "        entry_nombre.insert(0, valores[1])\n",
    "        entry_telefono.insert(0, valores[2])\n",
    "        entry_email.insert(0, valores[3])\n",
    "    else:\n",
    "        messagebox.showwarning(\"Advertencia\", \"Selecciona un registro\")\n",
    "\n",
    "# Función para actualizar un registro en la base de datos\n",
    "def actualizar_datos():\n",
    "    id_contacto = entry_id.get()\n",
    "    nombre = entry_nombre.get()\n",
    "    telefono = entry_telefono.get()\n",
    "    email = entry_email.get()\n",
    "\n",
    "    if id_contacto and nombre and telefono:\n",
    "        conexion = sqlite3.connect(\"mi_aplicacion.db\")\n",
    "        cursor = conexion.cursor()\n",
    "        cursor.execute(\"\"\"\n",
    "        UPDATE contactos\n",
    "        SET nombre = ?, telefono = ?, email = ?\n",
    "        WHERE id = ?\n",
    "        \"\"\", (nombre, telefono, email, id_contacto))\n",
    "        conexion.commit()\n",
    "        conexion.close()\n",
    "\n",
    "        cargar_datos()\n",
    "        messagebox.showinfo(\"Éxito\", \"Datos actualizados correctamente\")\n",
    "    else:\n",
    "        messagebox.showwarning(\"Advertencia\", \"Completa todos los campos obligatorios\")\n",
    "\n",
    "# Configuración del formulario\n",
    "frame_formulario = tk.Frame(ventana)\n",
    "frame_formulario.pack()\n",
    "\n",
    "tk.Label(frame_formulario, text=\"ID:\").grid(row=0, column=0)\n",
    "entry_id = tk.Entry(frame_formulario, state=\"readonly\")\n",
    "entry_id.grid(row=0, column=1)\n",
    "\n",
    "tk.Label(frame_formulario, text=\"Nombre:\").grid(row=1, column=0)\n",
    "entry_nombre = tk.Entry(frame_formulario)\n",
    "entry_nombre.grid(row=1, column=1)\n",
    "\n",
    "tk.Label(frame_formulario, text=\"Teléfono:\").grid(row=2, column=0)\n",
    "entry_telefono = tk.Entry(frame_formulario)\n",
    "entry_telefono.grid(row=2, column=1)\n",
    "\n",
    "tk.Label(frame_formulario, text=\"Email:\").grid(row=3, column=0)\n",
    "entry_email = tk.Entry(frame_formulario)\n",
    "entry_email.grid(row=3, column=1)\n",
    "\n",
    "btn_cargar_seleccion = tk.Button(frame_formulario, text=\"Cargar Selección\", command=cargar_seleccion)\n",
    "btn_cargar_seleccion.grid(row=4, column=0)\n",
    "\n",
    "btn_actualizar = tk.Button(frame_formulario, text=\"Actualizar Datos\", command=actualizar_datos)\n",
    "btn_actualizar.grid(row=4, column=1)"
   ]
  },
  {
   "cell_type": "markdown",
   "metadata": {},
   "source": [
    "### **7. Widgets avanzados: barras de desplazamiento, pestañas**"
   ]
  },
  {
   "cell_type": "markdown",
   "metadata": {},
   "source": [
    "#### **7.1. Barras de Desplazamiento (Scrollbar)**\n",
    "Las barras de desplazamiento son útiles para permitir al usuario navegar por contenido que excede el tamaño visible de un contenedor (como un **Canvas** o un Frame). Son particularmente necesarias cuando tienes una lista o texto largo dentro de una ventana.\n",
    "\n",
    "**Ejemplo: Uso de una Barra de Desplazamiento en un Text Widget**"
   ]
  },
  {
   "cell_type": "code",
   "execution_count": 1,
   "metadata": {},
   "outputs": [],
   "source": [
    "import tkinter as tk\n",
    "\n",
    "# Crear la ventana principal\n",
    "ventana = tk.Tk()\n",
    "ventana.title(\"Ejemplo de Barra de Desplazamiento\")\n",
    "\n",
    "# Crear un widget Text con una barra de desplazamiento\n",
    "frame = tk.Frame(ventana)\n",
    "frame.pack(fill=tk.BOTH, expand=True)\n",
    "\n",
    "texto = tk.Text(frame, height=10, width=40)\n",
    "texto.pack(side=tk.LEFT, fill=tk.BOTH, expand=True)\n",
    "\n",
    "# Agregar la barra de desplazamiento\n",
    "scrollbar = tk.Scrollbar(frame, command=texto.yview)\n",
    "scrollbar.pack(side=tk.RIGHT, fill=tk.Y)\n",
    "\n",
    "# Conectar la barra de desplazamiento con el widget Text\n",
    "texto.config(yscrollcommand=scrollbar.set)\n",
    "\n",
    "# Agregar algo de texto para probar la barra de desplazamiento\n",
    "for i in range(100):\n",
    "    texto.insert(tk.END, f\"Esto es una línea de texto número {i+1}\\n\")\n",
    "\n",
    "ventana.mainloop()"
   ]
  },
  {
   "cell_type": "markdown",
   "metadata": {},
   "source": [
    "**Explicación:**\n",
    "* Usamos un Text widget para mostrar texto.\n",
    "* El **Scrollbar** está vinculado a este widget, permitiendo al usuario desplazarse por el contenido.\n",
    "* El parámetro `yscrollcommand` de Text y el método `set` de Scrollbar se usan para conectar ambos widgets."
   ]
  },
  {
   "cell_type": "markdown",
   "metadata": {},
   "source": [
    "#### **7.2. Pestañas (Notebook)**\n",
    "El widget Notebook de `ttk` permite crear interfaces con pestañas, donde cada pestaña puede contener un conjunto diferente de widgets o funcionalidades. Esto es útil cuando deseas organizar diferentes secciones de la aplicación de manera visualmente clara.\n",
    "\n",
    "**Ejemplo: Crear una Interfaz con Pestañas (Notebook)**"
   ]
  },
  {
   "cell_type": "code",
   "execution_count": 2,
   "metadata": {},
   "outputs": [],
   "source": [
    "import tkinter as tk\n",
    "from tkinter import ttk\n",
    "\n",
    "# Crear la ventana principal\n",
    "ventana = tk.Tk()\n",
    "ventana.title(\"Ejemplo de Pestañas\")\n",
    "\n",
    "# Crear un Notebook\n",
    "notebook = ttk.Notebook(ventana)\n",
    "notebook.pack(fill=tk.BOTH, expand=True)\n",
    "\n",
    "# Crear los frames para cada pestaña\n",
    "pestaña1 = ttk.Frame(notebook)\n",
    "pestaña2 = ttk.Frame(notebook)\n",
    "\n",
    "# Añadir las pestañas al Notebook\n",
    "notebook.add(pestaña1, text=\"Pestaña 1\")\n",
    "notebook.add(pestaña2, text=\"Pestaña 2\")\n",
    "\n",
    "# Añadir contenido en cada pestaña\n",
    "label1 = tk.Label(pestaña1, text=\"Contenido de la Pestaña 1\")\n",
    "label1.pack(padx=10, pady=10)\n",
    "\n",
    "label2 = tk.Label(pestaña2, text=\"Contenido de la Pestaña 2\")\n",
    "label2.pack(padx=10, pady=10)\n",
    "\n",
    "ventana.mainloop()"
   ]
  },
  {
   "cell_type": "markdown",
   "metadata": {},
   "source": [
    "**Explicación:**\n",
    "* ttk.Notebook es el widget que contiene las pestañas.\n",
    "* ttk.Frame representa cada pestaña individual.\n",
    "* Usamos el método `add` para agregar las pestañas al Notebook y asignarles un nombre con el parámetro `text`."
   ]
  },
  {
   "cell_type": "markdown",
   "metadata": {},
   "source": [
    "#### **7.3. Uso Combinado: Pestañas con Barras de Desplazamiento**\n",
    "En algunas aplicaciones, necesitarás tener pestañas con barras de desplazamiento, especialmente si el contenido de las pestañas es largo.\n",
    "\n",
    "**Ejemplo: Pestañas con Texto Desplazable**"
   ]
  },
  {
   "cell_type": "code",
   "execution_count": null,
   "metadata": {},
   "outputs": [],
   "source": [
    "import tkinter as tk\n",
    "from tkinter import ttk\n",
    "\n",
    "# Crear la ventana principal\n",
    "ventana = tk.Tk()\n",
    "ventana.title(\"Pestañas con Barra de Desplazamiento\")\n",
    "\n",
    "# Crear el Notebook\n",
    "notebook = ttk.Notebook(ventana)\n",
    "notebook.pack(fill=tk.BOTH, expand=True)\n",
    "\n",
    "# Crear los frames para las pestañas\n",
    "pestaña1 = ttk.Frame(notebook)\n",
    "pestaña2 = ttk.Frame(notebook)\n",
    "\n",
    "# Añadir las pestañas al Notebook\n",
    "notebook.add(pestaña1, text=\"Pestaña 1\")\n",
    "notebook.add(pestaña2, text=\"Pestaña 2\")\n",
    "\n",
    "# Pestaña 1 con barra de desplazamiento\n",
    "frame1 = tk.Frame(pestaña1)\n",
    "frame1.pack(fill=tk.BOTH, expand=True)\n",
    "\n",
    "texto1 = tk.Text(frame1, height=10, width=40)\n",
    "texto1.pack(side=tk.LEFT, fill=tk.BOTH, expand=True)\n",
    "\n",
    "scrollbar1 = tk.Scrollbar(frame1, command=texto1.yview)\n",
    "scrollbar1.pack(side=tk.RIGHT, fill=tk.Y)\n",
    "\n",
    "texto1.config(yscrollcommand=scrollbar1.set)\n",
    "\n",
    "for i in range(50):\n",
    "    texto1.insert(tk.END, f\"Texto largo en Pestaña 1 - línea {i+1}\\n\")\n",
    "\n",
    "# Pestaña 2 con barra de desplazamiento\n",
    "frame2 = tk.Frame(pestaña2)\n",
    "frame2.pack(fill=tk.BOTH, expand=True)\n",
    "\n",
    "texto2 = tk.Text(frame2, height=10, width=40)\n",
    "texto2.pack(side=tk.LEFT, fill=tk.BOTH, expand=True)\n",
    "\n",
    "scrollbar2 = tk.Scrollbar(frame2, command=texto2.yview)\n",
    "scrollbar2.pack(side=tk.RIGHT, fill=tk.Y)\n",
    "\n",
    "texto2.config(yscrollcommand=scrollbar2.set)\n",
    "\n",
    "for i in range(50):\n",
    "    texto2.insert(tk.END, f\"Texto largo en Pestaña 2 - línea {i+1}\\n\")\n",
    "\n",
    "ventana.mainloop()"
   ]
  },
  {
   "cell_type": "markdown",
   "metadata": {},
   "source": [
    "**Explicación:**\n",
    "* Ambas pestañas tienen contenido largo (texto) que necesita ser desplazado.\n",
    "* Se utiliza un **Frame** dentro de cada pestaña, que a su vez contiene un Text **widget** con su respectiva **Scrollbar**."
   ]
  },
  {
   "cell_type": "markdown",
   "metadata": {},
   "source": [
    "### **8. Proyecto: Agenda de contactos con SQLite y Tkinter**"
   ]
  },
  {
   "cell_type": "markdown",
   "metadata": {},
   "source": [
    "#### **8.1. Requisitos del Proyecto**\n",
    "El proyecto debe permitir al usuario:\n",
    "\n",
    "* Agregar nuevos contactos (nombre, teléfono, email, dirección).\n",
    "* Ver los contactos almacenados.\n",
    "* Editar la información de los contactos.\n",
    "* Eliminar contactos.\n",
    "* Buscar contactos por nombre.\n",
    "\n",
    "La base de datos SQLite se utilizará para almacenar los contactos.\n",
    "\n",
    "La interfaz gráfica debe ser funcional, fácil de usar y debe incluir formularios para ingresar la información de los contactos y una lista o tabla para mostrar los contactos guardados."
   ]
  },
  {
   "cell_type": "markdown",
   "metadata": {},
   "source": [
    "#### **8.2. Estructura del Proyecto**\n",
    "1. **Base de Datos SQLite**\n",
    "    * Crear una base de datos llamada `agenda_contactos.db`.\n",
    "    * Una tabla `contactos` con las siguientes columnas.\n",
    "        * id (clave primaria, autoincremental).\n",
    "        * nombre (texto).\n",
    "        * telefono (texto).\n",
    "        * email (texto).\n",
    "        * direccion (texto).\n",
    "2. Interfaz Gráfica con Tkinter\n",
    "    * Crear una ventana principal que contenga\n",
    "        * Un formulario para agregar o editar contactos.\n",
    "        * Una lista o tabla para mostrar los contactos existentes.\n",
    "        * Botones para agregar, editar, eliminar y buscar contactos.\n",
    "        * Un campo de búsqueda para encontrar contactos por nombre."
   ]
  },
  {
   "cell_type": "markdown",
   "metadata": {},
   "source": [
    "#### **8.3. Desarrollo del Proyecto**\n",
    "1. **Creación de la base de datos y tabla:** Primero, crearemos la base de datos SQLite y la tabla de contactos."
   ]
  },
  {
   "cell_type": "code",
   "execution_count": null,
   "metadata": {},
   "outputs": [],
   "source": [
    "import sqlite3\n",
    "\n",
    "# Conexión a la base de datos (se crea si no existe)\n",
    "conn = sqlite3.connect('agenda_contactos.db')\n",
    "cursor = conn.cursor()\n",
    "\n",
    "# Crear la tabla de contactos\n",
    "cursor.execute('''\n",
    "    CREATE TABLE IF NOT EXISTS contactos (\n",
    "        id INTEGER PRIMARY KEY AUTOINCREMENT,\n",
    "        nombre TEXT NOT NULL,\n",
    "        telefono TEXT,\n",
    "        email TEXT,\n",
    "        direccion TEXT\n",
    "    )\n",
    "''')\n",
    "\n",
    "# Confirmar los cambios y cerrar la conexión\n",
    "conn.commit()\n",
    "conn.close()"
   ]
  },
  {
   "cell_type": "markdown",
   "metadata": {},
   "source": [
    "2. **Interfaz Gráfica con Tkinter:** Ahora, desarrollamos la interfaz gráfica que permita gestionar los contactos."
   ]
  },
  {
   "cell_type": "code",
   "execution_count": null,
   "metadata": {},
   "outputs": [],
   "source": [
    "import tkinter as tk\n",
    "from tkinter import messagebox\n",
    "import sqlite3\n",
    "\n",
    "# Función para conectar a la base de datos\n",
    "def conectar_bd():\n",
    "    return sqlite3.connect('agenda_contactos.db')\n",
    "\n",
    "# Función para agregar un nuevo contacto\n",
    "def agregar_contacto():\n",
    "    nombre = entry_nombre.get()\n",
    "    telefono = entry_telefono.get()\n",
    "    email = entry_email.get()\n",
    "    direccion = entry_direccion.get()\n",
    "\n",
    "    if not nombre:\n",
    "        messagebox.showerror(\"Error\", \"El nombre es obligatorio.\")\n",
    "        return\n",
    "\n",
    "    conn = conectar_bd()\n",
    "    cursor = conn.cursor()\n",
    "    cursor.execute(\"INSERT INTO contactos (nombre, telefono, email, direccion) VALUES (?, ?, ?, ?)\",\n",
    "                   (nombre, telefono, email, direccion))\n",
    "    conn.commit()\n",
    "    conn.close()\n",
    "    messagebox.showinfo(\"Éxito\", \"Contacto agregado correctamente.\")\n",
    "    mostrar_contactos()\n",
    "\n",
    "# Función para mostrar todos los contactos\n",
    "def mostrar_contactos():\n",
    "    for row in treeview.get_children():\n",
    "        treeview.delete(row)\n",
    "\n",
    "    conn = conectar_bd()\n",
    "    cursor = conn.cursor()\n",
    "    cursor.execute(\"SELECT * FROM contactos\")\n",
    "    contactos = cursor.fetchall()\n",
    "    conn.close()\n",
    "\n",
    "    for contacto in contactos:\n",
    "        treeview.insert(\"\", \"end\", values=contacto[1:])\n",
    "\n",
    "# Función para eliminar un contacto\n",
    "def eliminar_contacto():\n",
    "    selected_item = treeview.selection()\n",
    "    if not selected_item:\n",
    "        messagebox.showerror(\"Error\", \"Debe seleccionar un contacto para eliminar.\")\n",
    "        return\n",
    "\n",
    "    contacto_id = treeview.item(selected_item)[\"values\"][0]\n",
    "    conn = conectar_bd()\n",
    "    cursor = conn.cursor()\n",
    "    cursor.execute(\"DELETE FROM contactos WHERE id=?\", (contacto_id,))\n",
    "    conn.commit()\n",
    "    conn.close()\n",
    "    messagebox.showinfo(\"Éxito\", \"Contacto eliminado correctamente.\")\n",
    "    mostrar_contactos()\n",
    "\n",
    "# Crear la ventana principal\n",
    "ventana = tk.Tk()\n",
    "ventana.title(\"Agenda de Contactos\")\n",
    "\n",
    "# Crear el formulario de contacto\n",
    "frame_formulario = tk.Frame(ventana)\n",
    "frame_formulario.pack(padx=10, pady=10)\n",
    "\n",
    "tk.Label(frame_formulario, text=\"Nombre:\").grid(row=0, column=0, sticky=\"e\")\n",
    "entry_nombre = tk.Entry(frame_formulario)\n",
    "entry_nombre.grid(row=0, column=1)\n",
    "\n",
    "tk.Label(frame_formulario, text=\"Teléfono:\").grid(row=1, column=0, sticky=\"e\")\n",
    "entry_telefono = tk.Entry(frame_formulario)\n",
    "entry_telefono.grid(row=1, column=1)\n",
    "\n",
    "tk.Label(frame_formulario, text=\"Email:\").grid(row=2, column=0, sticky=\"e\")\n",
    "entry_email = tk.Entry(frame_formulario)\n",
    "entry_email.grid(row=2, column=1)\n",
    "\n",
    "tk.Label(frame_formulario, text=\"Dirección:\").grid(row=3, column=0, sticky=\"e\")\n",
    "entry_direccion = tk.Entry(frame_formulario)\n",
    "entry_direccion.grid(row=3, column=1)\n",
    "\n",
    "# Botones de acción\n",
    "btn_agregar = tk.Button(ventana, text=\"Agregar Contacto\", command=agregar_contacto)\n",
    "btn_agregar.pack(pady=10)\n",
    "\n",
    "# Crear la tabla de contactos\n",
    "treeview = tk.Treeview(ventana, columns=(\"Nombre\", \"Teléfono\", \"Email\", \"Dirección\"), show=\"headings\")\n",
    "treeview.pack(padx=10, pady=10)\n",
    "\n",
    "treeview.heading(\"Nombre\", text=\"Nombre\")\n",
    "treeview.heading(\"Teléfono\", text=\"Teléfono\")\n",
    "treeview.heading(\"Email\", text=\"Email\")\n",
    "treeview.heading(\"Dirección\", text=\"Dirección\")\n",
    "\n",
    "# Botón para eliminar contacto\n",
    "btn_eliminar = tk.Button(ventana, text=\"Eliminar Contacto\", command=eliminar_contacto)\n",
    "btn_eliminar.pack(pady=10)\n",
    "\n",
    "# Mostrar los contactos al iniciar\n",
    "mostrar_contactos()\n",
    "\n",
    "# Iniciar la ventana\n",
    "ventana.mainloop()"
   ]
  },
  {
   "cell_type": "markdown",
   "metadata": {},
   "source": [
    "#### **8.3. Explicación del Código**\n",
    "1. **Base de datos:**\n",
    "    * Usamos **SQLite** para almacenar los `contactos`. La tabla contactos contiene los campos necesarios: `nombre`, `telefono`, `email`, `direccion`.\n",
    "    * La conexión a la base de datos se realiza mediante la función `conectar_bd()`.\n",
    "2. **Interfaz Gráfica:**\n",
    "    * La interfaz tiene un formulario con campos de entrada para agregar un nuevo contacto: nombre, teléfono, email y dirección.\n",
    "    * Un `Treeview` se utiliza para mostrar los contactos almacenados en una tabla.\n",
    "    * Los botones permiten agregar, eliminar y visualizar los contactos.\n",
    "3. **Funciones:**\n",
    "    * `agregar_contacto`: Inserta un nuevo contacto en la base de datos.\n",
    "    * `mostrar_contactos`: Muestra todos los contactos almacenados en la tabla contactos.\n",
    "    * `eliminar_contacto`: Elimina el contacto seleccionado de la tabla."
   ]
  },
  {
   "cell_type": "markdown",
   "metadata": {},
   "source": [
    "#### **8.4. Mejoras y Extensiones Posibles**\n",
    "* **Buscar contacto:** Agregar un campo de búsqueda para filtrar los contactos por nombre.\n",
    "* **Editar contacto:** Crear una opción para editar los datos de un contacto seleccionado.\n",
    "* **Validación de entradas:** Agregar validaciones más robustas (por ejemplo, validación de formato de teléfono y email).\n",
    "\n",
    "Este proyecto puede ser una excelente manera de practicar el uso combinado de Tkinter y SQLite, y a medida que se avanzan en los módulos, se pueden agregar funcionalidades más complejas como la edición de registros, validaciones avanzadas y una interfaz más sofisticada."
   ]
  }
 ],
 "metadata": {
  "kernelspec": {
   "display_name": "Python 3",
   "language": "python",
   "name": "python3"
  },
  "language_info": {
   "codemirror_mode": {
    "name": "ipython",
    "version": 3
   },
   "file_extension": ".py",
   "mimetype": "text/x-python",
   "name": "python",
   "nbconvert_exporter": "python",
   "pygments_lexer": "ipython3",
   "version": "3.11.2"
  }
 },
 "nbformat": 4,
 "nbformat_minor": 2
}
