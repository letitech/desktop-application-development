{
 "cells": [
  {
   "cell_type": "markdown",
   "metadata": {},
   "source": [
    "# **Desarrollo Avanzado con PyQt**"
   ]
  },
  {
   "cell_type": "markdown",
   "metadata": {},
   "source": [
    "## **Objetivo**\n",
    "Adquirir conocimientos avanzados sobre el desarrollo de aplicaciones gráficas utilizando la biblioteca PyQt, explorando sus funcionalidades más destacadas y modernas. Aprender a crear interfaces visualmente atractivas y altamente funcionales, comprender la estructura de eventos y señales, y aplicar patrones de diseño para el desarrollo modular de aplicaciones. Desarrollar la capacidad de integrar características avanzadas como bases de datos, gráficos y estilos personalizados para construir aplicaciones robustas y escalables."
   ]
  },
  {
   "cell_type": "markdown",
   "metadata": {},
   "source": [
    "### **1. Introducción a PyQt y Qt Designer**"
   ]
  },
  {
   "cell_type": "markdown",
   "metadata": {},
   "source": [
    "PyQt es un conjunto de herramientas que permite crear aplicaciones gráficas en Python utilizando el framework Qt. Es potente, multiplataforma y ampliamente utilizado en la industria.\n",
    "\n",
    "**Características principales:**\n",
    "\n",
    "* Soporte para widgets básicos y avanzados.\n",
    "* Modelo de comunicación basado en señales y slots.\n",
    "* Posibilidad de desarrollar aplicaciones visualmente atractivas y responsivas.\n",
    "* Compatibilidad multiplataforma (Windows, macOS, Linux).\n",
    "\n",
    "**Instalación de PyQt y Qt Designer:**"
   ]
  },
  {
   "cell_type": "code",
   "execution_count": null,
   "metadata": {
    "vscode": {
     "languageId": "bat"
    }
   },
   "outputs": [],
   "source": [
    "pip install pyqt5 pyqt5-tools"
   ]
  },
  {
   "cell_type": "markdown",
   "metadata": {},
   "source": [
    "#### **1.1. Estructura básica de una aplicación PyQt**"
   ]
  },
  {
   "cell_type": "code",
   "execution_count": null,
   "metadata": {},
   "outputs": [],
   "source": [
    "import sys\n",
    "from PyQt5.QtWidgets import QApplication, QMainWindow\n",
    "\n",
    "class MainWindow(QMainWindow):\n",
    "    def __init__(self):\n",
    "        super().__init__()\n",
    "        self.setWindowTitle(\"Primera ventana con PyQt\")\n",
    "        self.setGeometry(100, 100, 600, 400)\n",
    "\n",
    "if __name__ == \"__main__\":\n",
    "    app = QApplication(sys.argv)\n",
    "    window = MainWindow()\n",
    "    window.show()\n",
    "    # sys.exit(app.exec_())"
   ]
  },
  {
   "cell_type": "markdown",
   "metadata": {},
   "source": [
    "**Explicación del flujo:**\n",
    "\n",
    "* `QApplication`: Gestiona el ciclo de vida de la aplicación.\n",
    "* `QMainWindow`: Define la ventana principal de la aplicación.\n",
    "* `app.exec_()`: Inicia el bucle de eventos."
   ]
  },
  {
   "cell_type": "markdown",
   "metadata": {},
   "source": [
    "#### **1.2. ¿Qué es Qt Designer?**"
   ]
  },
  {
   "cell_type": "markdown",
   "metadata": {},
   "source": [
    "Qt Designer es una herramienta visual que permite diseñar interfaces gráficas sin escribir código manualmente.\n",
    "\n",
    "**Ejecutar Qt Designer:**"
   ]
  },
  {
   "cell_type": "code",
   "execution_count": null,
   "metadata": {
    "vscode": {
     "languageId": "bat"
    }
   },
   "outputs": [],
   "source": [
    "designer"
   ]
  },
  {
   "cell_type": "markdown",
   "metadata": {},
   "source": [
    "**Explorando la interfaz:**\n",
    "\n",
    "* **Panel de herramientas:** Contiene widgets como botones, etiquetas, cuadros de texto, etc.\n",
    "* **Propiedades:** Permite personalizar cada widget (color, tamaño, alineación).\n",
    "* **Vista de diseño:** Área principal donde se colocan y organizan los widgets."
   ]
  },
  {
   "cell_type": "markdown",
   "metadata": {},
   "source": [
    "#### **1.3. Diseño de una ventana en Qt Designer**"
   ]
  },
  {
   "cell_type": "markdown",
   "metadata": {},
   "source": [
    "1. Abrir Qt Designer y seleccionar \"Main Window\".\n",
    "2. Agregar widgets básicos:\n",
    "    * Un botón (`QPushButton`).\n",
    "    * Una etiqueta (`QLabel`).\n",
    "    * Un cuadro de texto (`QLineEdit`).\n",
    "3. Ajustar propiedades:\n",
    "    * Cambiar el texto del botón a “Aceptar”.\n",
    "    * Configurar el tamaño y posición de los widgets.\n",
    "4. Guardar el archivo como `mi_ventana.ui`."
   ]
  },
  {
   "cell_type": "markdown",
   "metadata": {},
   "source": [
    "#### **1.4. Integración de Qt Designer con Python**"
   ]
  },
  {
   "cell_type": "markdown",
   "metadata": {},
   "source": [
    "**Conversión del archivo `.ui` a código Python:**"
   ]
  },
  {
   "cell_type": "code",
   "execution_count": null,
   "metadata": {
    "vscode": {
     "languageId": "bat"
    }
   },
   "outputs": [],
   "source": [
    "pyuic5 -x mi_ventana.ui -o mi_ventana.py"
   ]
  },
  {
   "cell_type": "markdown",
   "metadata": {},
   "source": [
    "**Ejemplo de ejecución del diseño convertido:**"
   ]
  },
  {
   "cell_type": "code",
   "execution_count": null,
   "metadata": {},
   "outputs": [],
   "source": [
    "import sys\n",
    "from PyQt5.QtWidgets import QApplication\n",
    "from mi_ventana import Ui_MainWindow\n",
    "\n",
    "class MainWindow(Ui_MainWindow):\n",
    "    def __init__(self):\n",
    "        super().__init__()\n",
    "        self.setupUi(self)\n",
    "\n",
    "if __name__ == \"__main__\":\n",
    "    app = QApplication(sys.argv)\n",
    "    window = MainWindow()\n",
    "    window.show()\n",
    "    sys.exit(app.exec_())"
   ]
  },
  {
   "cell_type": "markdown",
   "metadata": {},
   "source": [
    "#### **1.5. Ejercicios prácticos**\n",
    "1. **Creación de una ventana básica:**\n",
    "    * Crear y ejecutar una aplicación que muestre una ventana con un título personalizado.\n",
    "2. **Diseño visual en Qt Designer:**\n",
    "    * Crear una ventana con un botón, una etiqueta y un cuadro de texto.\n",
    "    * Ajustar el tamaño y las propiedades de cada widget.\n",
    "3. **Integración del diseño con Python:**\n",
    "    * Convertir el archivo .ui a código Python y ejecutarlo."
   ]
  },
  {
   "cell_type": "markdown",
   "metadata": {},
   "source": [
    "### **2. Diseño de interfaces con Qt Designer**"
   ]
  },
  {
   "cell_type": "markdown",
   "metadata": {},
   "source": [
    "Qt Designer es una herramienta visual que permite a los desarrolladores crear interfaces gráficas de forma rápida y eficiente, sin necesidad de escribir código manualmente.\n",
    "\n",
    "**Ventajas de usar Qt Designer:**\n",
    "* Diseño visual interactivo.\n",
    "* Reducción del tiempo de desarrollo.\n",
    "* Personalización avanzada a través de propiedades.\n",
    "* Integración sencilla con PyQt."
   ]
  },
  {
   "cell_type": "markdown",
   "metadata": {},
   "source": [
    "#### **2.1. Organización de widgets**\n",
    "Qt Designer permite organizar los widgets con layouts para asegurar un diseño responsivo:\n",
    "* **Horizontal Layout:** Alinea widgets en línea horizontal.\n",
    "* **Vertical Layout:** Alinea widgets en una columna.\n",
    "* **Grid Layout:** Organiza widgets en filas y columnas.\n",
    "* **Form Layout:** Ideal para formularios con etiquetas y entradas de datos.\n",
    "\n",
    "**Cómo aplicar layouts:**\n",
    "1. Selecciona los widgets a organizar.\n",
    "2. Haz clic derecho y selecciona un layout.\n",
    "3. Ajusta las propiedades según sea necesario."
   ]
  },
  {
   "cell_type": "markdown",
   "metadata": {},
   "source": [
    "#### **2.2. Integración con Python**\n",
    "**Convertir el archivo `.ui` a código Python:**"
   ]
  },
  {
   "cell_type": "code",
   "execution_count": null,
   "metadata": {
    "vscode": {
     "languageId": "bat"
    }
   },
   "outputs": [],
   "source": [
    "pyuic5 -x ventana_basica.ui -o ventana_basica.py"
   ]
  },
  {
   "cell_type": "markdown",
   "metadata": {},
   "source": [
    "**Código base para usar el diseño convertido:**"
   ]
  },
  {
   "cell_type": "code",
   "execution_count": null,
   "metadata": {},
   "outputs": [],
   "source": [
    "import sys\n",
    "from PyQt5.QtWidgets import QApplication, QMainWindow\n",
    "from ventana_basica import Ui_MainWindow\n",
    "\n",
    "class MainWindow(QMainWindow, Ui_MainWindow):\n",
    "    def __init__(self):\n",
    "        super().__init__()\n",
    "        self.setupUi(self)\n",
    "\n",
    "if __name__ == \"__main__\":\n",
    "    app = QApplication(sys.argv)\n",
    "    window = MainWindow()\n",
    "    window.show()\n",
    "    sys.exit(app.exec_())"
   ]
  },
  {
   "cell_type": "markdown",
   "metadata": {},
   "source": [
    "#### **2.3. Ejercicio Práctico**\n",
    "1. **Ventana de inicio:**\n",
    "    * Diseña una ventana con una etiqueta, un cuadro de texto y un botón.\n",
    "    * Ajusta las propiedades para personalizar el diseño.\n",
    "    * Integra el diseño con Python.\n",
    "2. **Diseño responsivo:**\n",
    "    * Crea un formulario con etiquetas y cuadros de texto organizados en un layout de formulario.\n",
    "    * Asegúrate de que los widgets se ajusten al tamaño de la ventana.\n",
    "3. **Diseño avanzado:**\n",
    "    * Diseña una interfaz con pestañas (QTabWidget) y botones.\n",
    "    * Configura los layouts para un diseño fluido y profesional."
   ]
  },
  {
   "cell_type": "markdown",
   "metadata": {},
   "source": [
    "### **3. Conexión de la interfaz con lógica en Python**"
   ]
  },
  {
   "cell_type": "markdown",
   "metadata": {},
   "source": [
    "**Arquitectura general de PyQt:**\n",
    "* La interfaz diseñada en Qt Designer define los componentes visuales.\n",
    "* La lógica en Python gestiona el comportamiento de esos componentes.\n",
    "* Los eventos, como clics en botones o entradas de texto, son gestionados a través de señales y slots."
   ]
  },
  {
   "cell_type": "markdown",
   "metadata": {},
   "source": [
    "#### **3.1. Configurar la conexión entre la interfaz y la lógica**\n",
    "1. **Importar la interfaz convertida:** En el archivo de lógica, importa la clase generada por pyuic5:"
   ]
  },
  {
   "cell_type": "code",
   "execution_count": null,
   "metadata": {},
   "outputs": [],
   "source": [
    "from interfaz import Ui_MainWindow"
   ]
  },
  {
   "cell_type": "markdown",
   "metadata": {},
   "source": [
    "2. **Crear una clase para gestionar la lógica:** Extiende la clase QMainWindow e inicializa la interfaz:"
   ]
  },
  {
   "cell_type": "code",
   "execution_count": null,
   "metadata": {},
   "outputs": [],
   "source": [
    "from PyQt5.QtWidgets import QApplication, QMainWindow\n",
    "\n",
    "class MainWindow(QMainWindow, Ui_MainWindow):\n",
    "    def __init__(self):\n",
    "        super().__init__()\n",
    "        self.setupUi(self)\n",
    "        self.conectar_eventos()\n",
    "\n",
    "    def conectar_eventos(self):\n",
    "        pass"
   ]
  },
  {
   "cell_type": "markdown",
   "metadata": {},
   "source": [
    "#### **3.2. Conectar eventos a funciones (Señales y slots)**\n",
    "1. **Definir la conexión:**\n",
    "    * Cada widget tiene señales específicas que se pueden vincular a funciones.\n",
    "    * Usa el método `connect` para enlazar una señal a un slot (función).\n",
    "2. **Ejemplo básico:** Conecta el clic de un botón a una función personalizada:"
   ]
  },
  {
   "cell_type": "code",
   "execution_count": null,
   "metadata": {},
   "outputs": [],
   "source": [
    "def conectar_eventos(self):\n",
    "    self.boton_saludar.clicked.connect(self.saludar)\n",
    "\n",
    "def saludar(self):\n",
    "    nombre = self.cuadro_nombre.text()\n",
    "    self.etiqueta_resultado.setText(f\"Hola, {nombre}!\")"
   ]
  },
  {
   "cell_type": "markdown",
   "metadata": {},
   "source": [
    "3. **Señales comunes:**\n",
    "    * `clicked`: Señal de botones (QPushButton).\n",
    "    * `textChanged`: Cambios en cuadros de texto (QLineEdit).\n",
    "    * `currentIndexChanged`: Cambios en menús desplegables (QComboBox)."
   ]
  },
  {
   "cell_type": "markdown",
   "metadata": {},
   "source": [
    "#### **3.3. Caso práctico: Suma de dos números**\n",
    "1. **Diseño de la interfaz:**\n",
    "    * Incluye dos cuadros de texto (`QLineEdit`), un botón (`QPushButton`) y una etiqueta (`QLabel`).\n",
    "    * Asigna nombres a los widgets en Qt Designer:\n",
    "        * `entrada_num1` y `entrada_num2` para los cuadros de texto.\n",
    "        * `boton_sumar` para el botón.\n",
    "        * `etiqueta_resultado` para mostrar el resultado.\n",
    "2. **Código de lógica:**"
   ]
  },
  {
   "cell_type": "code",
   "execution_count": null,
   "metadata": {},
   "outputs": [],
   "source": [
    "class MainWindow(QMainWindow, Ui_MainWindow):\n",
    "    def __init__(self):\n",
    "        super().__init__()\n",
    "        self.setupUi(self)\n",
    "        self.conectar_eventos()\n",
    "\n",
    "    def conectar_eventos(self):\n",
    "        self.boton_sumar.clicked.connect(self.sumar)\n",
    "\n",
    "    def sumar(self):\n",
    "        try:\n",
    "            num1 = float(self.entrada_num1.text())\n",
    "            num2 = float(self.entrada_num2.text())\n",
    "            resultado = num1 + num2\n",
    "            self.etiqueta_resultado.setText(f\"Resultado: {resultado}\")\n",
    "        except ValueError:\n",
    "            self.etiqueta_resultado.setText(\"Error: Introduce números válidos.\")"
   ]
  },
  {
   "cell_type": "markdown",
   "metadata": {},
   "source": [
    "#### **3.4. Estructura básica del archivo principal**"
   ]
  },
  {
   "cell_type": "markdown",
   "metadata": {
    "vscode": {
     "languageId": "html"
    }
   },
   "source": [
    "**Inicialización de la aplicación:** Crea la instancia de la aplicación y muestra la ventana:"
   ]
  },
  {
   "cell_type": "code",
   "execution_count": null,
   "metadata": {},
   "outputs": [],
   "source": [
    "if __name__ == \"__main__\":\n",
    "    import sys\n",
    "    app = QApplication(sys.argv)\n",
    "    ventana = MainWindow()\n",
    "    ventana.show()\n",
    "    sys.exit(app.exec_())"
   ]
  },
  {
   "cell_type": "markdown",
   "metadata": {},
   "source": [
    "#### **3.4. Ejercicios Práctico**\n",
    "1. **Conversor de temperaturas:**\n",
    "    * Diseña una interfaz que reciba una temperatura en Celsius y la convierta a Fahrenheit al hacer clic en un botón.\n",
    "    * Agrega validación para entradas no numéricas."
   ]
  },
  {
   "cell_type": "markdown",
   "metadata": {},
   "source": [
    "### **4. Widgets avanzados en PyQt: tablas y listas dinámicas**"
   ]
  },
  {
   "cell_type": "markdown",
   "metadata": {},
   "source": [
    "**Listas dinámicas (`QListWidget`):**\n",
    "* Permiten manejar elementos de lista con facilidad.\n",
    "* Ideal para tareas como mostrar opciones seleccionables o listas dinámicas de contenido.\n",
    "\n",
    "**Tablas dinámicas (`QTableWidget`):**\n",
    "* Ofrecen una estructura en filas y columnas.\n",
    "* Útil para manejar datos tabulares como bases de datos, hojas de cálculo, etc."
   ]
  },
  {
   "cell_type": "markdown",
   "metadata": {},
   "source": [
    "#### **4.1. Uso de `QListWidget`**\n",
    "Agregar, eliminar y manipular elementos dinámicamente.\n",
    "\n",
    "**Ejemplo: Crear una lista de tareas:**"
   ]
  },
  {
   "cell_type": "code",
   "execution_count": null,
   "metadata": {},
   "outputs": [],
   "source": [
    "from PyQt5.QtWidgets import QApplication, QMainWindow, QListWidget, QLineEdit, QPushButton, QVBoxLayout, QWidget\n",
    "\n",
    "class MainWindow(QMainWindow):\n",
    "    def __init__(self):\n",
    "        super().__init__()\n",
    "        self.setWindowTitle(\"Lista de tareas\")\n",
    "\n",
    "        # Crear widgets\n",
    "        self.lista_tareas = QListWidget()\n",
    "        self.entrada_tarea = QLineEdit()\n",
    "        self.boton_agregar = QPushButton(\"Agregar\")\n",
    "        self.boton_eliminar = QPushButton(\"Eliminar Seleccionada\")\n",
    "\n",
    "        # Conectar eventos\n",
    "        self.boton_agregar.clicked.connect(self.agregar_tarea)\n",
    "        self.boton_eliminar.clicked.connect(self.eliminar_tarea)\n",
    "\n",
    "        # Layout\n",
    "        layout = QVBoxLayout()\n",
    "        layout.addWidget(self.lista_tareas)\n",
    "        layout.addWidget(self.entrada_tarea)\n",
    "        layout.addWidget(self.boton_agregar)\n",
    "        layout.addWidget(self.boton_eliminar)\n",
    "\n",
    "        contenedor = QWidget()\n",
    "        contenedor.setLayout(layout)\n",
    "        self.setCentralWidget(contenedor)\n",
    "\n",
    "    def agregar_tarea(self):\n",
    "        tarea = self.entrada_tarea.text()\n",
    "        if tarea:\n",
    "            self.lista_tareas.addItem(tarea)\n",
    "            self.entrada_tarea.clear()\n",
    "\n",
    "    def eliminar_tarea(self):\n",
    "        lista_items = self.lista_tareas.selectedItems()\n",
    "        if not lista_items:\n",
    "            return\n",
    "        for item in lista_items:\n",
    "            self.lista_tareas.takeItem(self.lista_tareas.row(item))\n",
    "\n",
    "if __name__ == \"__main__\":\n",
    "    app = QApplication([])\n",
    "    ventana = MainWindow()\n",
    "    ventana.show()\n",
    "    app.exec_()"
   ]
  },
  {
   "cell_type": "markdown",
   "metadata": {},
   "source": [
    "#### **4.2. Uso de `QTableWidget`**\n",
    "Configurar el número de filas y columnas y añadir contenido dinámico.\n",
    "\n",
    "**Ejemplo: Mostrar datos tabulares**"
   ]
  },
  {
   "cell_type": "code",
   "execution_count": null,
   "metadata": {},
   "outputs": [],
   "source": [
    "from PyQt5.QtWidgets import QApplication, QMainWindow, QTableWidget, QTableWidgetItem, QVBoxLayout, QWidget\n",
    "\n",
    "class MainWindow(QMainWindow):\n",
    "    def __init__(self):\n",
    "        super().__init__()\n",
    "        self.setWindowTitle(\"Tabla dinámica\")\n",
    "\n",
    "        # Crear tabla\n",
    "        self.tabla = QTableWidget()\n",
    "        self.tabla.setRowCount(3)  # Número de filas inicial\n",
    "        self.tabla.setColumnCount(3)  # Número de columnas inicial\n",
    "        self.tabla.setHorizontalHeaderLabels([\"Nombre\", \"Edad\", \"Ciudad\"])\n",
    "\n",
    "        # Agregar datos a la tabla\n",
    "        datos = [\n",
    "            [\"Alice\", \"25\", \"Nueva York\"],\n",
    "            [\"Bob\", \"30\", \"Los Ángeles\"],\n",
    "            [\"Charlie\", \"35\", \"Chicago\"]\n",
    "        ]\n",
    "\n",
    "        for fila, fila_datos in enumerate(datos):\n",
    "            for columna, valor in enumerate(fila_datos):\n",
    "                self.tabla.setItem(fila, columna, QTableWidgetItem(valor))\n",
    "\n",
    "        # Layout\n",
    "        layout = QVBoxLayout()\n",
    "        layout.addWidget(self.tabla)\n",
    "\n",
    "        contenedor = QWidget()\n",
    "        contenedor.setLayout(layout)\n",
    "        self.setCentralWidget(contenedor)\n",
    "\n",
    "if __name__ == \"__main__\":\n",
    "    app = QApplication([])\n",
    "    ventana = MainWindow()\n",
    "    ventana.show()\n",
    "    app.exec_()"
   ]
  },
  {
   "cell_type": "markdown",
   "metadata": {},
   "source": [
    "#### **4.3. Eventos en tablas y listas**\n",
    "Usar señales como itemClicked o cellClicked para manejar selecciones.\n",
    "\n",
    "**Ejemplo: Obtener datos seleccionados de una tabla**"
   ]
  },
  {
   "cell_type": "code",
   "execution_count": null,
   "metadata": {},
   "outputs": [],
   "source": [
    "self.tabla.cellClicked.connect(self.mostrar_celda)\n",
    "\n",
    "def mostrar_celda(self, fila, columna):\n",
    "    valor = self.tabla.item(fila, columna).text()\n",
    "    print(f\"Celda seleccionada: {fila}, {columna} -> {valor}\")"
   ]
  },
  {
   "cell_type": "markdown",
   "metadata": {},
   "source": [
    "**Modificar contenido en tiempo real:**"
   ]
  },
  {
   "cell_type": "code",
   "execution_count": null,
   "metadata": {},
   "outputs": [],
   "source": [
    "self.tabla.setEditTriggers(QTableWidget.AllEditTriggers)"
   ]
  },
  {
   "cell_type": "markdown",
   "metadata": {},
   "source": [
    "#### **4.3. Caso práctico: Gestor de inventario**\n",
    "**Características:**\n",
    "* Usar una tabla para registrar productos con columnas como \"Nombre\", \"Cantidad\" y \"Precio\".\n",
    "* Botones para agregar, editar y eliminar productos.\n",
    "* Mostrar el total de los productos al pie de la tabla.\n",
    "\n",
    "**Esqueleto básico del código:**"
   ]
  },
  {
   "cell_type": "code",
   "execution_count": null,
   "metadata": {},
   "outputs": [],
   "source": [
    "class Inventario(QMainWindow):\n",
    "    def __init__(self):\n",
    "        super().__init__()\n",
    "        self.setWindowTitle(\"Gestor de inventario\")\n",
    "\n",
    "        # Configurar tabla\n",
    "        self.tabla = QTableWidget()\n",
    "        self.tabla.setColumnCount(3)\n",
    "        self.tabla.setHorizontalHeaderLabels([\"Nombre\", \"Cantidad\", \"Precio\"])\n",
    "\n",
    "        # Botones\n",
    "        self.boton_agregar = QPushButton(\"Agregar Producto\")\n",
    "        self.boton_eliminar = QPushButton(\"Eliminar Producto\")\n",
    "        self.boton_total = QPushButton(\"Calcular Total\")\n",
    "\n",
    "        # Layout\n",
    "        layout = QVBoxLayout()\n",
    "        layout.addWidget(self.tabla)\n",
    "        layout.addWidget(self.boton_agregar)\n",
    "        layout.addWidget(self.boton_eliminar)\n",
    "        layout.addWidget(self.boton_total)\n",
    "\n",
    "        contenedor = QWidget()\n",
    "        contenedor.setLayout(layout)\n",
    "        self.setCentralWidget(contenedor)\n",
    "\n",
    "        # Conectar eventos\n",
    "        self.boton_agregar.clicked.connect(self.agregar_producto)\n",
    "        self.boton_eliminar.clicked.connect(self.eliminar_producto)\n",
    "        self.boton_total.clicked.connect(self.calcular_total)\n",
    "\n",
    "    def agregar_producto(self):\n",
    "        # Lógica para agregar producto\n",
    "        pass\n",
    "\n",
    "    def eliminar_producto(self):\n",
    "        # Lógica para eliminar producto\n",
    "        pass\n",
    "\n",
    "    def calcular_total(self):\n",
    "        # Lógica para calcular total\n",
    "        pass"
   ]
  },
  {
   "cell_type": "markdown",
   "metadata": {},
   "source": [
    "### **5. Integración de bases de datos con PyQt**"
   ]
  },
  {
   "cell_type": "markdown",
   "metadata": {},
   "source": [
    "**Arquitectura básica de integración:**\n",
    "* Base de datos SQLite para almacenamiento de datos.\n",
    "* PyQt como interfaz gráfica.\n",
    "* Funciones en Python para manipular la base de datos."
   ]
  },
  {
   "cell_type": "markdown",
   "metadata": {},
   "source": [
    "#### **5.1. Configuración Inicial**\n",
    "1. **Creación de la Base de Datos:** Crea una base de datos SQLite para almacenar información."
   ]
  },
  {
   "cell_type": "code",
   "execution_count": null,
   "metadata": {
    "vscode": {
     "languageId": "sql"
    }
   },
   "outputs": [],
   "source": [
    "CREATE TABLE IF NOT EXISTS productos (\n",
    "    id INTEGER PRIMARY KEY AUTOINCREMENT,\n",
    "    nombre TEXT NOT NULL,\n",
    "    cantidad INTEGER NOT NULL,\n",
    "    precio REAL NOT NULL\n",
    ");"
   ]
  },
  {
   "cell_type": "markdown",
   "metadata": {},
   "source": [
    "2. **Conexión básica a SQLite desde Python:**"
   ]
  },
  {
   "cell_type": "code",
   "execution_count": null,
   "metadata": {},
   "outputs": [],
   "source": [
    "import sqlite3\n",
    "\n",
    "def conectar_base_datos():\n",
    "    conexion = sqlite3.connect(\"mi_base_datos.db\")\n",
    "    return conexion"
   ]
  },
  {
   "cell_type": "markdown",
   "metadata": {},
   "source": [
    "#### **5.2. Integración con PyQt: Funciones básicas**"
   ]
  },
  {
   "cell_type": "markdown",
   "metadata": {},
   "source": [
    "1. **Conectar a la base de datos desde PyQt:**"
   ]
  },
  {
   "cell_type": "code",
   "execution_count": null,
   "metadata": {},
   "outputs": [],
   "source": [
    "class BaseDeDatosApp:\n",
    "    def __init__(self):\n",
    "        self.conexion = sqlite3.connect(\"mi_base_datos.db\")\n",
    "        self.cursor = self.conexion.cursor()"
   ]
  },
  {
   "cell_type": "markdown",
   "metadata": {},
   "source": [
    "2. **Inserción de datos desde la interfaz:**"
   ]
  },
  {
   "cell_type": "code",
   "execution_count": null,
   "metadata": {},
   "outputs": [],
   "source": [
    "def insertar_datos(nombre, cantidad, precio):\n",
    "    consulta = \"INSERT INTO productos (nombre, cantidad, precio) VALUES (?, ?, ?)\"\n",
    "    self.cursor.execute(consulta, (nombre, cantidad, precio))\n",
    "    self.conexion.commit()"
   ]
  },
  {
   "cell_type": "markdown",
   "metadata": {},
   "source": [
    "3. **Consulta de datos y carga en un widget:**"
   ]
  },
  {
   "cell_type": "code",
   "execution_count": null,
   "metadata": {},
   "outputs": [],
   "source": [
    "def consultar_datos():\n",
    "    consulta = \"SELECT * FROM productos\"\n",
    "    self.cursor.execute(consulta)\n",
    "    return self.cursor.fetchall()"
   ]
  },
  {
   "cell_type": "markdown",
   "metadata": {},
   "source": [
    "#### **5.3. Implementación práctica: Mostrar datos en un `QTableWidget`**\n",
    "1. **Configurar el widget:** Crear un QTableWidget en la interfaz para mostrar los datos.\n",
    "2. C**argar datos dinámicamente:**"
   ]
  },
  {
   "cell_type": "code",
   "execution_count": null,
   "metadata": {},
   "outputs": [],
   "source": [
    "def cargar_datos_en_tabla(self):\n",
    "    datos = self.consultar_datos()\n",
    "    self.tabla.setRowCount(len(datos))\n",
    "    for fila, producto in enumerate(datos):\n",
    "        for columna, valor in enumerate(producto):\n",
    "            self.tabla.setItem(fila, columna, QTableWidgetItem(str(valor)))\n"
   ]
  },
  {
   "cell_type": "markdown",
   "metadata": {},
   "source": [
    "3. **Actualizar datos desde la tabla:**\n",
    "    * Usar eventos para capturar ediciones en la tabla.\n",
    "    * Actualizar la base de datos con los cambios realizados."
   ]
  },
  {
   "cell_type": "markdown",
   "metadata": {},
   "source": [
    "#### **5.4. Ejemplo completo: Aplicación CRUD**\n",
    "**Código básico para gestionar productos con SQLite y PyQt:**"
   ]
  },
  {
   "cell_type": "code",
   "execution_count": null,
   "metadata": {},
   "outputs": [],
   "source": [
    "from PyQt5.QtWidgets import QApplication, QMainWindow, QTableWidget, QTableWidgetItem, QVBoxLayout, QPushButton, QWidget, QLineEdit\n",
    "import sqlite3\n",
    "\n",
    "class MainWindow(QMainWindow):\n",
    "    def __init__(self):\n",
    "        super().__init__()\n",
    "        self.setWindowTitle(\"Gestión de Productos\")\n",
    "        self.conexion = sqlite3.connect(\"productos.db\")\n",
    "        self.cursor = self.conexion.cursor()\n",
    "        self.crear_tabla()\n",
    "\n",
    "        # Crear widgets\n",
    "        self.tabla = QTableWidget()\n",
    "        self.tabla.setColumnCount(4)\n",
    "        self.tabla.setHorizontalHeaderLabels([\"ID\", \"Nombre\", \"Cantidad\", \"Precio\"])\n",
    "\n",
    "        self.input_nombre = QLineEdit()\n",
    "        self.input_cantidad = QLineEdit()\n",
    "        self.input_precio = QLineEdit()\n",
    "        self.boton_agregar = QPushButton(\"Agregar Producto\")\n",
    "        self.boton_cargar = QPushButton(\"Cargar Datos\")\n",
    "\n",
    "        # Conectar eventos\n",
    "        self.boton_agregar.clicked.connect(self.agregar_producto)\n",
    "        self.boton_cargar.clicked.connect(self.cargar_datos)\n",
    "\n",
    "        # Layout\n",
    "        layout = QVBoxLayout()\n",
    "        layout.addWidget(self.tabla)\n",
    "        layout.addWidget(self.input_nombre)\n",
    "        layout.addWidget(self.input_cantidad)\n",
    "        layout.addWidget(self.input_precio)\n",
    "        layout.addWidget(self.boton_agregar)\n",
    "        layout.addWidget(self.boton_cargar)\n",
    "\n",
    "        contenedor = QWidget()\n",
    "        contenedor.setLayout(layout)\n",
    "        self.setCentralWidget(contenedor)\n",
    "\n",
    "    def crear_tabla(self):\n",
    "        self.cursor.execute(\"\"\"\n",
    "            CREATE TABLE IF NOT EXISTS productos (\n",
    "                id INTEGER PRIMARY KEY AUTOINCREMENT,\n",
    "                nombre TEXT NOT NULL,\n",
    "                cantidad INTEGER NOT NULL,\n",
    "                precio REAL NOT NULL\n",
    "            )\n",
    "        \"\"\")\n",
    "        self.conexion.commit()\n",
    "\n",
    "    def agregar_producto(self):\n",
    "        nombre = self.input_nombre.text()\n",
    "        cantidad = int(self.input_cantidad.text())\n",
    "        precio = float(self.input_precio.text())\n",
    "\n",
    "        self.cursor.execute(\"INSERT INTO productos (nombre, cantidad, precio) VALUES (?, ?, ?)\", (nombre, cantidad, precio))\n",
    "        self.conexion.commit()\n",
    "\n",
    "        self.input_nombre.clear()\n",
    "        self.input_cantidad.clear()\n",
    "        self.input_precio.clear()\n",
    "\n",
    "    def cargar_datos(self):\n",
    "        self.cursor.execute(\"SELECT * FROM productos\")\n",
    "        datos = self.cursor.fetchall()\n",
    "\n",
    "        self.tabla.setRowCount(len(datos))\n",
    "        for fila, producto in enumerate(datos):\n",
    "            for columna, valor in enumerate(producto):\n",
    "                self.tabla.setItem(fila, columna, QTableWidgetItem(str(valor)))\n",
    "\n",
    "if __name__ == \"__main__\":\n",
    "    app = QApplication([])\n",
    "    ventana = MainWindow()\n",
    "    ventana.show()\n",
    "    app.exec_()"
   ]
  },
  {
   "cell_type": "markdown",
   "metadata": {},
   "source": [
    "### **6. Señales y eventos avanzados**"
   ]
  },
  {
   "cell_type": "markdown",
   "metadata": {},
   "source": [
    "1. **Señales en PyQt:** son un mecanismo de comunicación entre objetos."
   ]
  },
  {
   "cell_type": "code",
   "execution_count": null,
   "metadata": {},
   "outputs": [],
   "source": [
    "widget.signal.connect(slot)"
   ]
  },
  {
   "cell_type": "markdown",
   "metadata": {},
   "source": [
    "2. **Eventos en PyQt:** Acciones como clics, movimientos del mouse o teclas presionadas."
   ]
  },
  {
   "cell_type": "markdown",
   "metadata": {},
   "source": [
    "#### **6.1. Creación de señales personalizadas**\n",
    "1. **Declarar una señal personalizada:** usar `pyqtSignal` para definir señales propias"
   ]
  },
  {
   "cell_type": "code",
   "execution_count": null,
   "metadata": {},
   "outputs": [],
   "source": [
    "from PyQt5.QtCore import pyqtSignal, QObject\n",
    "\n",
    "class MiObjeto(QObject):\n",
    "    mi_senal = pyqtSignal(str)\n",
    "\n",
    "    def emitir_senal(self, mensaje):\n",
    "        self.mi_senal.emit(mensaje)"
   ]
  },
  {
   "cell_type": "markdown",
   "metadata": {},
   "source": [
    "2. **Conectar la señal personalizada:**"
   ]
  },
  {
   "cell_type": "code",
   "execution_count": null,
   "metadata": {},
   "outputs": [],
   "source": [
    "objeto = MiObjeto()\n",
    "objeto.mi_senal.connect(lambda msg: print(f\"Recibido: {msg}\"))\n",
    "objeto.emitir_senal(\"¡Hola desde la señal personalizada!\")"
   ]
  },
  {
   "cell_type": "markdown",
   "metadata": {},
   "source": [
    "#### **6.2. Eventos avanzados en PyQt**\n",
    "1. **Sobrescribir eventos predeterminados:** Manejo de eventos específicos sobrescribiendo métodos de la clase."
   ]
  },
  {
   "cell_type": "code",
   "execution_count": null,
   "metadata": {},
   "outputs": [],
   "source": [
    "def keyPressEvent(self, event):\n",
    "    if event.key() == Qt.Key_Escape:\n",
    "        print(\"Tecla Escape presionada\")"
   ]
  },
  {
   "cell_type": "markdown",
   "metadata": {},
   "source": [
    "2. **Eventos del mouse:**\n",
    "    * Métodos comunes:\n",
    "        * `mousePressEvent`: Al hacer clic.\n",
    "        * `mouseMoveEvent`: Al mover el mouse.\n",
    "        * `mouseReleaseEvent`: Al soltar el clic.\n",
    "    * **Ejemplo:**"
   ]
  },
  {
   "cell_type": "code",
   "execution_count": null,
   "metadata": {},
   "outputs": [],
   "source": [
    "def mousePressEvent(self, event):\n",
    "    print(f\"Mouse presionado en {event.pos()}\")"
   ]
  },
  {
   "cell_type": "markdown",
   "metadata": {},
   "source": [
    "3. **Eventos de la ventana:** Detectar acciones como redimensionar, minimizar o cerrar."
   ]
  },
  {
   "cell_type": "markdown",
   "metadata": {},
   "source": [
    "#### **6.3. Uso práctico de señales y eventos avanzados**\n",
    "1. **Comunicación entre widgets:** usar señales personalizadas para notificar cambios entre diferentes widgets."
   ]
  },
  {
   "cell_type": "code",
   "execution_count": null,
   "metadata": {},
   "outputs": [],
   "source": [
    "class MiWidget(QWidget):\n",
    "    actualizar_texto = pyqtSignal(str)\n",
    "\n",
    "    def enviar_texto(self):\n",
    "        self.actualizar_texto.emit(\"Texto actualizado\")"
   ]
  },
  {
   "cell_type": "markdown",
   "metadata": {},
   "source": [
    "2. **Implementación de atajos de teclado:**\n",
    "    * Asignar acciones rápidas con `QShortcut`."
   ]
  },
  {
   "cell_type": "code",
   "execution_count": null,
   "metadata": {},
   "outputs": [],
   "source": [
    "from PyQt5.QtWidgets import QShortcut\n",
    "from PyQt5.QtGui import QKeySequence\n",
    "\n",
    "atajo = QShortcut(QKeySequence(\"Ctrl+S\"), self)\n",
    "atajo.activated.connect(self.guardar_archivo)"
   ]
  },
  {
   "cell_type": "markdown",
   "metadata": {},
   "source": [
    "3. **Capturar interacciones avanzadas del usuario:**\n",
    "    * **Ejemplo:** Dibujar en un lienzo interactivo con eventos del mouse"
   ]
  },
  {
   "cell_type": "code",
   "execution_count": null,
   "metadata": {},
   "outputs": [],
   "source": [
    "def mouseMoveEvent(self, event):\n",
    "    print(f\"Dibujando en {event.pos()}\")"
   ]
  },
  {
   "cell_type": "markdown",
   "metadata": {},
   "source": [
    "#### **6.4. Ejemplo práctico: Control deslizante dinámico**\n",
    "Crear una aplicación que use señales personalizadas y eventos avanzados para interactuar con un `QSlider` y un `QLCDNumber`.\n",
    "\n",
    "**Código ejemplo:**"
   ]
  },
  {
   "cell_type": "code",
   "execution_count": null,
   "metadata": {},
   "outputs": [],
   "source": [
    "from PyQt5.QtWidgets import QApplication, QMainWindow, QSlider, QVBoxLayout, QWidget, QLabel, QLCDNumber\n",
    "from PyQt5.QtCore import Qt, pyqtSignal\n",
    "\n",
    "class VentanaPrincipal(QMainWindow):\n",
    "    valor_cambiado = pyqtSignal(int)\n",
    "\n",
    "    def __init__(self):\n",
    "        super().__init__()\n",
    "        self.setWindowTitle(\"Señales y Eventos Avanzados\")\n",
    "\n",
    "        # Crear widgets\n",
    "        self.slider = QSlider(Qt.Horizontal)\n",
    "        self.slider.setRange(0, 100)\n",
    "        self.lcd = QLCDNumber()\n",
    "        self.label = QLabel(\"Mueve el control deslizante\")\n",
    "\n",
    "        # Conectar señales\n",
    "        self.slider.valueChanged.connect(self.actualizar_lcd)\n",
    "        self.valor_cambiado.connect(lambda valor: self.label.setText(f\"Valor actual: {valor}\"))\n",
    "\n",
    "        # Layout\n",
    "        layout = QVBoxLayout()\n",
    "        layout.addWidget(self.lcd)\n",
    "        layout.addWidget(self.slider)\n",
    "        layout.addWidget(self.label)\n",
    "\n",
    "        contenedor = QWidget()\n",
    "        contenedor.setLayout(layout)\n",
    "        self.setCentralWidget(contenedor)\n",
    "\n",
    "    def actualizar_lcd(self, valor):\n",
    "        self.lcd.display(valor)\n",
    "        self.valor_cambiado.emit(valor)\n",
    "\n",
    "if __name__ == \"__main__\":\n",
    "    app = QApplication([])\n",
    "    ventana = VentanaPrincipal()\n",
    "    ventana.show()\n",
    "    app.exec_()"
   ]
  },
  {
   "cell_type": "markdown",
   "metadata": {},
   "source": [
    "### **7. Proyecto: Sistema de gestión de inventario básico**"
   ]
  },
  {
   "cell_type": "markdown",
   "metadata": {},
   "source": [
    "El objetivo de este proyecto es desarrollar un sistema básico de gestión de inventarios utilizando PyQt para la interfaz gráfica y SQLite como base de datos para almacenar la información del inventario. El sistema permitirá a los usuarios agregar, editar, eliminar y visualizar productos en el inventario."
   ]
  },
  {
   "cell_type": "markdown",
   "metadata": {},
   "source": [
    "#### **7.1. Especificaciones del Proyecto**\n",
    "1. **Pantalla principal:**\n",
    "    * Una tabla que muestre los productos almacenados en el inventario.\n",
    "    * Columnas de la tabla: ID, Nombre, Categoría, Cantidad, Precio, Acciones.\n",
    "    * Opciones para agregar, editar y eliminar productos.\n",
    "2. **Agregar producto:**\n",
    "    * Un formulario para ingresar los detalles del producto: Nombre, Categoría, Cantidad y Precio.\n",
    "    * Validaciones de los campos para asegurar que se ingresen datos válidos.\n",
    "3. **Editar producto:**\n",
    "    * Permitir la edición de los datos de los productos existentes a través de un formulario similar al de agregar.\n",
    "4. **Eliminar producto:**\n",
    "    * Opción para eliminar un producto de la base de datos.\n",
    "5. **Base de datos:**\n",
    "    * Utilización de SQLite para almacenar los datos de los productos.\n",
    "    * Base de datos con una tabla llamada productos, con las columnas:\n",
    "        * id (INTEGER PRIMARY KEY)\n",
    "        * nombre (TEXT)\n",
    "        * categoria (TEXT)\n",
    "        * cantidad (INTEGER)\n",
    "        * precio (REAL)"
   ]
  },
  {
   "cell_type": "markdown",
   "metadata": {},
   "source": [
    "#### **7.2. Desarrollo del Proyecto**\n",
    "1. **Creación de la base de datos:** Crear la base de datos `inventario.db` con la tabla `productos`. "
   ]
  },
  {
   "cell_type": "code",
   "execution_count": null,
   "metadata": {},
   "outputs": [],
   "source": [
    "import sqlite3\n",
    "\n",
    "# Crear conexión a la base de datos (se creará el archivo si no existe)\n",
    "conn = sqlite3.connect('inventario.db')\n",
    "cursor = conn.cursor()\n",
    "\n",
    "# Crear la tabla de productos\n",
    "cursor.execute('''\n",
    "CREATE TABLE IF NOT EXISTS productos (\n",
    "    id INTEGER PRIMARY KEY,\n",
    "    nombre TEXT NOT NULL,\n",
    "    categoria TEXT NOT NULL,\n",
    "    cantidad INTEGER NOT NULL,\n",
    "    precio REAL NOT NULL\n",
    ")\n",
    "''')\n",
    "\n",
    "# Confirmar los cambios y cerrar la conexión\n",
    "conn.commit()\n",
    "conn.close()"
   ]
  },
  {
   "cell_type": "markdown",
   "metadata": {},
   "source": [
    "2. **Diseño de la interfaz con PyQt**\n",
    "    1. **Ventana principal:**\n",
    "        * Utilizamos `QTableWidget` para mostrar los productos.\n",
    "        * Botones para agregar, editar y eliminar productos.\n",
    "        * Layout con `QVBoxLayout` y `QHBoxLayout` para organizar los widgets."
   ]
  },
  {
   "cell_type": "code",
   "execution_count": null,
   "metadata": {},
   "outputs": [],
   "source": [
    "from PyQt5.QtWidgets import QApplication, QWidget, QVBoxLayout, QPushButton, QTableWidget, QTableWidgetItem, QHBoxLayout\n",
    "from PyQt5.QtCore import Qt\n",
    "import sqlite3\n",
    "\n",
    "class GestionInventario(QWidget):\n",
    "    def __init__(self):\n",
    "        super().__init__()\n",
    "\n",
    "        self.setWindowTitle(\"Sistema de Gestión de Inventario\")\n",
    "        self.setGeometry(100, 100, 800, 600)\n",
    "\n",
    "        # Layout principal\n",
    "        layout = QVBoxLayout()\n",
    "\n",
    "        # Crear tabla para mostrar productos\n",
    "        self.table = QTableWidget()\n",
    "        self.table.setColumnCount(5)\n",
    "        self.table.setHorizontalHeaderLabels(['ID', 'Nombre', 'Categoría', 'Cantidad', 'Precio'])\n",
    "        layout.addWidget(self.table)\n",
    "\n",
    "        # Botones para agregar, editar y eliminar productos\n",
    "        button_layout = QHBoxLayout()\n",
    "\n",
    "        self.btn_add = QPushButton(\"Agregar Producto\")\n",
    "        self.btn_add.clicked.connect(self.agregar_producto)\n",
    "        button_layout.addWidget(self.btn_add)\n",
    "\n",
    "        self.btn_edit = QPushButton(\"Editar Producto\")\n",
    "        self.btn_edit.clicked.connect(self.editar_producto)\n",
    "        button_layout.addWidget(self.btn_edit)\n",
    "\n",
    "        self.btn_delete = QPushButton(\"Eliminar Producto\")\n",
    "        self.btn_delete.clicked.connect(self.eliminar_producto)\n",
    "        button_layout.addWidget(self.btn_delete)\n",
    "\n",
    "        layout.addLayout(button_layout)\n",
    "\n",
    "        self.setLayout(layout)\n",
    "\n",
    "        # Cargar datos de la base de datos\n",
    "        self.cargar_datos()\n",
    "\n",
    "    def cargar_datos(self):\n",
    "        # Limpiar la tabla\n",
    "        self.table.setRowCount(0)\n",
    "\n",
    "        # Conectar a la base de datos\n",
    "        conn = sqlite3.connect('inventario.db')\n",
    "        cursor = conn.cursor()\n",
    "\n",
    "        # Obtener todos los productos\n",
    "        cursor.execute(\"SELECT * FROM productos\")\n",
    "        productos = cursor.fetchall()\n",
    "\n",
    "        # Llenar la tabla con los datos\n",
    "        for row_num, producto in enumerate(productos):\n",
    "            self.table.insertRow(row_num)\n",
    "            for col_num, data in enumerate(producto):\n",
    "                self.table.setItem(row_num, col_num, QTableWidgetItem(str(data)))\n",
    "\n",
    "        conn.close()\n",
    "\n",
    "    def agregar_producto(self):\n",
    "        pass  # Lógica para agregar producto (implementar más adelante)\n",
    "\n",
    "    def editar_producto(self):\n",
    "        pass  # Lógica para editar producto (implementar más adelante)\n",
    "\n",
    "    def eliminar_producto(self):\n",
    "        pass  # Lógica para eliminar producto (implementar más adelante)\n",
    "\n",
    "if __name__ == \"__main__\":\n",
    "    app = QApplication([])\n",
    "    ventana = GestionInventario()\n",
    "    ventana.show()\n",
    "    app.exec_()"
   ]
  },
  {
   "cell_type": "markdown",
   "metadata": {},
   "source": [
    "3. **Implementación de las funcionalidades: Agregar, Editar y Eliminar productos**\n",
    "    * **Agregar producto:** Se creará un formulario para ingresar los datos del nuevo producto."
   ]
  },
  {
   "cell_type": "code",
   "execution_count": null,
   "metadata": {},
   "outputs": [],
   "source": [
    "from PyQt5.QtWidgets import QDialog, QFormLayout, QLineEdit, QDialogButtonBox\n",
    "\n",
    "class FormularioProducto(QDialog):\n",
    "    def __init__(self, parent=None):\n",
    "        super().__init__(parent)\n",
    "\n",
    "        self.setWindowTitle(\"Agregar Producto\")\n",
    "\n",
    "        # Layout para el formulario\n",
    "        layout = QFormLayout()\n",
    "\n",
    "        self.nombre_input = QLineEdit(self)\n",
    "        self.categoria_input = QLineEdit(self)\n",
    "        self.cantidad_input = QLineEdit(self)\n",
    "        self.precio_input = QLineEdit(self)\n",
    "\n",
    "        layout.addRow(\"Nombre:\", self.nombre_input)\n",
    "        layout.addRow(\"Categoría:\", self.categoria_input)\n",
    "        layout.addRow(\"Cantidad:\", self.cantidad_input)\n",
    "        layout.addRow(\"Precio:\", self.precio_input)\n",
    "\n",
    "        # Botones\n",
    "        self.buttons = QDialogButtonBox(QDialogButtonBox.Ok | QDialogButtonBox.Cancel, self)\n",
    "        self.buttons.accepted.connect(self.accept)\n",
    "        self.buttons.rejected.connect(self.reject)\n",
    "\n",
    "        layout.addWidget(self.buttons)\n",
    "        self.setLayout(layout)\n",
    "\n",
    "    def obtener_datos(self):\n",
    "        return (self.nombre_input.text(), self.categoria_input.text(), int(self.cantidad_input.text()), float(self.precio_input.text()))"
   ]
  },
  {
   "cell_type": "markdown",
   "metadata": {},
   "source": [
    "### **8. Optimización y personalización de interfaces en PyQt**"
   ]
  },
  {
   "cell_type": "markdown",
   "metadata": {},
   "source": [
    "#### **8.1. Optimización de la interfaz en PyQt**"
   ]
  },
  {
   "cell_type": "markdown",
   "metadata": {},
   "source": [
    "##### **8.1.1. Uso eficiente de layouts**\n",
    "* **Propósito:** Utilizar layouts para organizar los widgets de forma eficiente y adaptativa a diferentes tamaños de ventana.\n",
    "* **Ejemplo:** Uso de QVBoxLayout, QHBoxLayout y QGridLayout para organizar botones y otros widgets dentro de una ventana de PyQt."
   ]
  },
  {
   "cell_type": "code",
   "execution_count": null,
   "metadata": {},
   "outputs": [],
   "source": [
    "from PyQt5.QtWidgets import QApplication, QWidget, QVBoxLayout, QPushButton\n",
    "\n",
    "class VentanaPrincipal(QWidget):\n",
    "    def __init__(self):\n",
    "        super().__init__()\n",
    "\n",
    "        # Layout de la ventana\n",
    "        layout = QVBoxLayout()\n",
    "\n",
    "        # Crear botones\n",
    "        btn1 = QPushButton(\"Botón 1\")\n",
    "        btn2 = QPushButton(\"Botón 2\")\n",
    "        \n",
    "        # Añadir botones al layout\n",
    "        layout.addWidget(btn1)\n",
    "        layout.addWidget(btn2)\n",
    "\n",
    "        # Establecer el layout\n",
    "        self.setLayout(layout)\n",
    "\n",
    "        self.setWindowTitle(\"Optimización con Layouts\")\n",
    "        self.setGeometry(100, 100, 300, 200)\n",
    "\n",
    "if __name__ == \"__main__\":\n",
    "    app = QApplication([])\n",
    "    ventana = VentanaPrincipal()\n",
    "    ventana.show()\n",
    "    app.exec_()"
   ]
  },
  {
   "cell_type": "markdown",
   "metadata": {},
   "source": [
    "##### **8.1.2. Uso eficiente de `QSplitter`**\n",
    "* **Propósito:** Usar `QSplitter` para permitir que los usuarios ajusten el tamaño de los paneles de la interfaz, mejorando la flexibilidad de la disposición de los widgets."
   ]
  },
  {
   "cell_type": "code",
   "execution_count": null,
   "metadata": {},
   "outputs": [],
   "source": [
    "from PyQt5.QtWidgets import QSplitter, QVBoxLayout, QWidget, QPushButton\n",
    "from PyQt5.QtCore import Qt\n",
    "\n",
    "class VentanaPrincipal(QWidget):\n",
    "    def __init__(self):\n",
    "        super().__init__()\n",
    "\n",
    "        # Crear QSplitter\n",
    "        splitter = QSplitter(Qt.Horizontal)\n",
    "\n",
    "        # Crear paneles dentro del QSplitter\n",
    "        left_panel = QPushButton(\"Panel Izquierdo\")\n",
    "        right_panel = QPushButton(\"Panel Derecho\")\n",
    "        \n",
    "        # Añadir paneles al splitter\n",
    "        splitter.addWidget(left_panel)\n",
    "        splitter.addWidget(right_panel)\n",
    "\n",
    "        layout = QVBoxLayout()\n",
    "        layout.addWidget(splitter)\n",
    "        self.setLayout(layout)\n",
    "\n",
    "        self.setWindowTitle(\"Uso de QSplitter\")\n",
    "        self.setGeometry(100, 100, 500, 300)\n",
    "\n",
    "if __name__ == \"__main__\":\n",
    "    app = QApplication([])\n",
    "    ventana = VentanaPrincipal()\n",
    "    ventana.show()\n",
    "    app.exec_()"
   ]
  },
  {
   "cell_type": "markdown",
   "metadata": {},
   "source": [
    "#### **8.2. Personalización estética con estilos (CSS)**"
   ]
  },
  {
   "cell_type": "markdown",
   "metadata": {},
   "source": [
    "##### **8.2.1. Uso de estilos en PyQt**\n",
    "* **Propósito:** Modificar la apariencia visual de los widgets usando CSS para cambiar colores, tamaños, bordes, etc.\n",
    "* **Aplicación:** Personalización de un botón con fondo, color de texto y efectos al pasar el ratón."
   ]
  },
  {
   "cell_type": "code",
   "execution_count": null,
   "metadata": {},
   "outputs": [],
   "source": [
    "btn = QPushButton('Mi Botón')\n",
    "btn.setStyleSheet(\"\"\"\n",
    "    QPushButton {\n",
    "        background-color: #4CAF50;\n",
    "        color: white;\n",
    "        font-size: 16px;\n",
    "        border-radius: 10px;\n",
    "    }\n",
    "    QPushButton:hover {\n",
    "        background-color: #45a049;\n",
    "    }\n",
    "\"\"\")"
   ]
  },
  {
   "cell_type": "markdown",
   "metadata": {},
   "source": [
    "##### **8.2.2. Aplicación de CSS a toda la interfaz**\n",
    "* **Propósito:** Usar Qt Style Sheets (QSS) para modificar el estilo de toda la interfaz y darle un diseño coherente."
   ]
  },
  {
   "cell_type": "code",
   "execution_count": null,
   "metadata": {},
   "outputs": [],
   "source": [
    "app.setStyle('Fusion')"
   ]
  },
  {
   "cell_type": "markdown",
   "metadata": {},
   "source": [
    "Con QSS, puedes aplicar estilos avanzados a toda la interfaz, modificando cosas como el color de fondo, bordes, sombras, etc."
   ]
  },
  {
   "cell_type": "markdown",
   "metadata": {},
   "source": [
    "#### **8.3. Técnicas de optimización**"
   ]
  },
  {
   "cell_type": "markdown",
   "metadata": {},
   "source": [
    "##### **8.3.1. Uso de `QTableView` y modelos**\n",
    "* **Propósito:** Mejorar el rendimiento al trabajar con grandes volúmenes de datos. `QTableView` es más eficiente que `QTableWidget` cuando se necesitan manejar muchas filas y columnas.\n",
    "* **Aplicación:** Usar un modelo de datos y asignarlo a un `QTableView` para gestionar y mostrar datos dinámicamente."
   ]
  },
  {
   "cell_type": "code",
   "execution_count": null,
   "metadata": {},
   "outputs": [],
   "source": [
    "from PyQt5.QtWidgets import QTableView, QAbstractTableModel\n",
    "from PyQt5.QtCore import Qt, QModelIndex\n",
    "\n",
    "class ModeloTabla(QAbstractTableModel):\n",
    "    def __init__(self, data):\n",
    "        super().__init__()\n",
    "        self.data = data\n",
    "\n",
    "    def rowCount(self, parent=QModelIndex()):\n",
    "        return len(self.data)\n",
    "\n",
    "    def columnCount(self, parent=QModelIndex()):\n",
    "        return len(self.data[0])\n",
    "\n",
    "    def data(self, index, role=Qt.DisplayRole):\n",
    "        if role == Qt.DisplayRole:\n",
    "            return self.data[index.row()][index.column()]\n",
    "\n",
    "class VentanaPrincipal(QWidget):\n",
    "    def __init__(self):\n",
    "        super().__init__()\n",
    "\n",
    "        data = [['Producto A', 10, 20], ['Producto B', 15, 30], ['Producto C', 20, 50]]\n",
    "        modelo = ModeloTabla(data)\n",
    "        vista = QTableView(self)\n",
    "        vista.setModel(modelo)\n",
    "\n",
    "        layout = QVBoxLayout()\n",
    "        layout.addWidget(vista)\n",
    "        self.setLayout(layout)\n",
    "        self.setWindowTitle(\"Optimización con QTableView\")\n",
    "        self.setGeometry(100, 100, 500, 300)\n",
    "\n",
    "if __name__ == \"__main__\":\n",
    "    app = QApplication([])\n",
    "    ventana = VentanaPrincipal()\n",
    "    ventana.show()\n",
    "    app.exec_()"
   ]
  },
  {
   "cell_type": "markdown",
   "metadata": {},
   "source": [
    "##### **8.3.2. Uso de hilos para tareas largas**\n",
    "* **Propósito:** Prevenir que la interfaz se congele durante procesos largos, como la lectura de archivos o consultas a bases de datos, utilizando QThread."
   ]
  },
  {
   "cell_type": "code",
   "execution_count": null,
   "metadata": {},
   "outputs": [],
   "source": [
    "from PyQt5.QtCore import QThread, pyqtSignal\n",
    "\n",
    "class HiloLargo(QThread):\n",
    "    signal = pyqtSignal(str)\n",
    "\n",
    "    def run(self):\n",
    "        import time\n",
    "        time.sleep(5)\n",
    "        self.signal.emit(\"Operación terminada\")\n",
    "\n",
    "class VentanaPrincipal(QWidget):\n",
    "    def __init__(self):\n",
    "        super().__init__()\n",
    "\n",
    "        self.setWindowTitle(\"Uso de Hilos en PyQt\")\n",
    "        self.setGeometry(100, 100, 300, 200)\n",
    "\n",
    "        self.boton = QPushButton(\"Iniciar Proceso Largo\", self)\n",
    "        self.boton.clicked.connect(self.iniciar_hilo)\n",
    "\n",
    "        layout = QVBoxLayout()\n",
    "        layout.addWidget(self.boton)\n",
    "        self.setLayout(layout)\n",
    "\n",
    "    def iniciar_hilo(self):\n",
    "        self.hilo = HiloLargo()\n",
    "        self.hilo.signal.connect(self.mostrar_resultado)\n",
    "        self.hilo.start()\n",
    "\n",
    "    def mostrar_resultado(self, mensaje):\n",
    "        self.boton.setText(mensaje)\n",
    "\n",
    "if __name__ == \"__main__\":\n",
    "    app = QApplication([])\n",
    "    ventana = VentanaPrincipal()\n",
    "    ventana.show()\n",
    "    app.exec_()"
   ]
  },
  {
   "cell_type": "markdown",
   "metadata": {},
   "source": [
    "### **9. Empaquetado de aplicaciones con PyInstaller**"
   ]
  },
  {
   "cell_type": "markdown",
   "metadata": {},
   "source": [
    "**PyInstaller** es una herramienta que permite convertir aplicaciones Python en ejecutables independientes para diversas plataformas (Windows, macOS y Linux). Esto significa que los usuarios podrán ejecutar una aplicación sin tener que instalar Python ni las dependencias del proyecto.\n",
    "\n",
    "**Ventajas:**\n",
    "* Crear ejecutables multiplataforma.\n",
    "* Integrar todos los recursos y dependencias necesarias dentro de un solo archivo.\n",
    "* Compatible con bibliotecas populares como PyQt, Tkinter, Pandas, entre otras."
   ]
  },
  {
   "cell_type": "markdown",
   "metadata": {},
   "source": [
    "#### **9.1. Instalación de PyInstaller**\n",
    "Para instalar **PyInstaller**, simplemente abre la terminal o el símbolo del sistema y ejecuta:"
   ]
  },
  {
   "cell_type": "code",
   "execution_count": null,
   "metadata": {
    "vscode": {
     "languageId": "bat"
    }
   },
   "outputs": [],
   "source": [
    "pip install pyinstaller"
   ]
  },
  {
   "cell_type": "markdown",
   "metadata": {},
   "source": [
    "#### **9.2. Crear un ejecutable con PyInstaller**\n",
    "Para convertir una aplicación Python en un ejecutable, simplemente ejecuta el siguiente comando en la terminal desde el directorio donde está el archivo Python:"
   ]
  },
  {
   "cell_type": "code",
   "execution_count": null,
   "metadata": {
    "vscode": {
     "languageId": "bat"
    }
   },
   "outputs": [],
   "source": [
    "pyinstaller --onefile nombre_del_archivo.py"
   ]
  },
  {
   "cell_type": "markdown",
   "metadata": {},
   "source": [
    "**Explicación:**\n",
    "* `--onefile`: Genera un único archivo ejecutable en lugar de una carpeta con archivos de soporte.\n",
    "* `nombre_del_archivo.py`: El archivo Python que contiene la aplicación."
   ]
  },
  {
   "cell_type": "markdown",
   "metadata": {},
   "source": [
    "#### **9.3. Opciones avanzadas de PyInstaller**"
   ]
  },
  {
   "cell_type": "markdown",
   "metadata": {},
   "source": [
    "##### **9.3.1. Incluir archivos adicionales (imágenes, bases de datos, etc.)**\n",
    "Si tu aplicación utiliza archivos externos, como imágenes o bases de datos, puedes incluir estos recursos en el ejecutable usando el parámetro --add-data. La sintaxis es la siguiente:\n",
    "* **Windows:**"
   ]
  },
  {
   "cell_type": "code",
   "execution_count": null,
   "metadata": {
    "vscode": {
     "languageId": "bat"
    }
   },
   "outputs": [],
   "source": [
    "pyinstaller --onefile --add-data \"ruta_a_imagen.png;.\" mi_aplicacion.py"
   ]
  },
  {
   "cell_type": "markdown",
   "metadata": {},
   "source": [
    "* **Linux/macOS:**"
   ]
  },
  {
   "cell_type": "code",
   "execution_count": null,
   "metadata": {
    "vscode": {
     "languageId": "bat"
    }
   },
   "outputs": [],
   "source": [
    "pyinstaller --onefile --add-data \"ruta_a_imagen.png:.\" mi_aplicacion.py"
   ]
  },
  {
   "cell_type": "markdown",
   "metadata": {},
   "source": [
    "Esto copiará el archivo de imagen imagen.png al directorio de trabajo del ejecutable."
   ]
  },
  {
   "cell_type": "markdown",
   "metadata": {},
   "source": [
    "##### **9.3.2. Personalizar el icono del ejecutable**\n",
    "Para personalizar el icono del ejecutable, usa el parámetro --icon seguido de la ruta al archivo .ico (en Windows) o .icns (en macOS):"
   ]
  },
  {
   "cell_type": "code",
   "execution_count": null,
   "metadata": {
    "vscode": {
     "languageId": "bat"
    }
   },
   "outputs": [],
   "source": [
    "pyinstaller --onefile --icon=mi_icono.ico mi_aplicacion.py"
   ]
  },
  {
   "cell_type": "markdown",
   "metadata": {},
   "source": [
    "##### **9.3.3. Generar un ejecutable en una carpeta (no en un solo archivo)**\n",
    "Si prefieres generar un conjunto de archivos en lugar de un único ejecutable, puedes eliminar el parámetro --onefile y usar el siguiente comando:"
   ]
  },
  {
   "cell_type": "code",
   "execution_count": null,
   "metadata": {
    "vscode": {
     "languageId": "bat"
    }
   },
   "outputs": [],
   "source": [
    "pyinstaller --add-data \"ruta_a_imagen.png;.\" --icon=mi_icono.ico mi_aplicacion.py"
   ]
  },
  {
   "cell_type": "markdown",
   "metadata": {},
   "source": [
    "Esto generará una carpeta dist/ con los archivos ejecutables y las dependencias necesarias."
   ]
  },
  {
   "cell_type": "markdown",
   "metadata": {},
   "source": [
    "#### **9.4. Solución de problemas comunes**"
   ]
  },
  {
   "cell_type": "markdown",
   "metadata": {},
   "source": [
    "##### **9.4.1. Error de importación al ejecutar el ejecutable**\n",
    "A veces, el ejecutable no puede encontrar algunas dependencias de bibliotecas. Para solucionar este problema, asegúrate de que PyInstaller pueda detectar todas las dependencias, especificando la opción `--hidden-import`:"
   ]
  },
  {
   "cell_type": "code",
   "execution_count": null,
   "metadata": {
    "vscode": {
     "languageId": "bat"
    }
   },
   "outputs": [],
   "source": [
    "pyinstaller --onefile --hidden-import=nombre_paquete mi_aplicacion.py"
   ]
  },
  {
   "cell_type": "markdown",
   "metadata": {},
   "source": [
    "Esto incluirá manualmente el paquete que no se detectó correctamente."
   ]
  },
  {
   "cell_type": "markdown",
   "metadata": {},
   "source": [
    "##### **9.4.2. Archivos faltantes al empaquetar**\n",
    "Si algunos archivos no se incluyen correctamente en el ejecutable, revisa el archivo de configuración generado por PyInstaller en el directorio build/. Puedes agregar archivos adicionales usando `--add-data`."
   ]
  },
  {
   "cell_type": "markdown",
   "metadata": {},
   "source": [
    "#### **9.5. Solución de problemas comunes**\n",
    "A continuación, se muestra el comando completo para empaquetar una aplicación PyQt que tiene imágenes y personaliza el icono:"
   ]
  },
  {
   "cell_type": "code",
   "execution_count": null,
   "metadata": {
    "vscode": {
     "languageId": "bat"
    }
   },
   "outputs": [],
   "source": [
    "pyinstaller --onefile --add-data \"imagenes/logo.png;imagenes\" --icon=mi_icono.ico mi_aplicacion.py"
   ]
  },
  {
   "cell_type": "markdown",
   "metadata": {},
   "source": [
    "Este comando crea un solo archivo ejecutable con la imagen logo.png incluida en el directorio imagenes/ y el icono personalizado mi_icono.ico."
   ]
  },
  {
   "cell_type": "markdown",
   "metadata": {},
   "source": [
    "#### **9.6. Distribuir la aplicación**\n",
    "Una vez que se ha generado el ejecutable, puedes distribuirlo fácilmente. Los usuarios solo necesitan descargar y ejecutar el archivo generado, sin necesidad de tener Python instalado.\n",
    "\n",
    "* En **Windows**, el archivo ejecutable estará en la carpeta dist/ y tendrá la extensión .exe.\n",
    "* En **Linux/macOS**, el ejecutable tendrá los permisos necesarios para ser ejecutado directamente."
   ]
  },
  {
   "cell_type": "markdown",
   "metadata": {},
   "source": [
    "### **10. Proyecto avanzado: Sistema completo con PyQt**"
   ]
  }
 ],
 "metadata": {
  "kernelspec": {
   "display_name": "Python 3",
   "language": "python",
   "name": "python3"
  },
  "language_info": {
   "codemirror_mode": {
    "name": "ipython",
    "version": 3
   },
   "file_extension": ".py",
   "mimetype": "text/x-python",
   "name": "python",
   "nbconvert_exporter": "python",
   "pygments_lexer": "ipython3",
   "version": "3.11.2"
  }
 },
 "nbformat": 4,
 "nbformat_minor": 2
}
